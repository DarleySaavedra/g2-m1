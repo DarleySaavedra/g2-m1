{
 "cells": [
  {
   "cell_type": "markdown",
   "metadata": {},
   "source": [
    "# Entregable 2"
   ]
  },
  {
   "cell_type": "markdown",
   "metadata": {},
   "source": [
    "## Implementación  y Población "
   ]
  },
  {
   "cell_type": "markdown",
   "metadata": {},
   "source": [
    "* IMPORTACION DE LIBRERIAS DE Python "
   ]
  },
  {
   "cell_type": "code",
   "execution_count": 1,
   "metadata": {},
   "outputs": [],
   "source": [
    "import sqlite3 \n",
    "import pymysql\n",
    "import pandas as pd\n",
    "from sqlalchemy import create_engine\n",
    "import numpy as np"
   ]
  },
  {
   "cell_type": "code",
   "execution_count": 3,
   "metadata": {},
   "outputs": [],
   "source": [
    "maxplanck=pymysql.connect(host='13.85.29.21', port=3306, user='admin', password='admin', db='maxplanck')"
   ]
  },
  {
   "cell_type": "code",
   "execution_count": 4,
   "metadata": {},
   "outputs": [],
   "source": [
    "cursor=maxplanck.cursor()"
   ]
  },
  {
   "cell_type": "markdown",
   "metadata": {},
   "source": [
    "* Lectura de tablas (método 1)"
   ]
  },
  {
   "cell_type": "code",
   "execution_count": 5,
   "metadata": {},
   "outputs": [],
   "source": [
    "try:\n",
    "    with cursor:\n",
    "        sql = \"select * from personas\"\n",
    "        cursor.execute(sql)\n",
    "        cursos = cursor.fetchall()\n",
    "        #print(cursos)\n",
    "finally:\n",
    "    pass"
   ]
  },
  {
   "cell_type": "markdown",
   "metadata": {},
   "source": [
    "* Lectura de tablas (método 2)"
   ]
  },
  {
   "cell_type": "code",
   "execution_count": 6,
   "metadata": {},
   "outputs": [],
   "source": [
    "personas = pd.read_sql_query(\"select  registros.idpers, personas.idpers, nombres, apellidos, dni, direccion from personas inner join registros on personas.idpers=registros.idpers \", maxplanck)"
   ]
  },
  {
   "cell_type": "code",
   "execution_count": 7,
   "metadata": {},
   "outputs": [],
   "source": [
    "registros = pd.read_sql_query(\"SELECT idreg, idarea, nivel, grado, bimestre, anio as año from registros\", maxplanck) #idpers,"
   ]
  },
  {
   "cell_type": "code",
   "execution_count": 8,
   "metadata": {},
   "outputs": [],
   "source": [
    "areas = pd.read_sql_query(\"select r.idarea, a.abreviatura as Curso from registros r inner join areas a on r.idarea=a.idarea\", maxplanck)"
   ]
  },
  {
   "cell_type": "code",
   "execution_count": 9,
   "metadata": {},
   "outputs": [],
   "source": [
    "detregistros = pd.read_sql_query(\"SELECT idreg,  nota1, nota2, nota3, nota4,nota5, nota6, nota7, nota8 FROM detregistros\", maxplanck)"
   ]
  },
  {
   "cell_type": "markdown",
   "metadata": {},
   "source": [
    "* Creando tablas en SQLite"
   ]
  },
  {
   "cell_type": "code",
   "execution_count": 10,
   "metadata": {
    "collapsed": true,
    "jupyter": {
     "outputs_hidden": true
    }
   },
   "outputs": [
    {
     "ename": "ValueError",
     "evalue": "Table 'personas' already exists.",
     "output_type": "error",
     "traceback": [
      "\u001b[0;31m---------------------------------------------------------------------------\u001b[0m",
      "\u001b[0;31mValueError\u001b[0m                                Traceback (most recent call last)",
      "\u001b[0;32m<ipython-input-10-7bef334cd7ee>\u001b[0m in \u001b[0;36m<module>\u001b[0;34m\u001b[0m\n\u001b[1;32m      1\u001b[0m \u001b[0;32mtry\u001b[0m\u001b[0;34m:\u001b[0m\u001b[0;34m\u001b[0m\u001b[0;34m\u001b[0m\u001b[0m\n\u001b[1;32m      2\u001b[0m         \u001b[0mengine\u001b[0m \u001b[0;34m=\u001b[0m \u001b[0mcreate_engine\u001b[0m\u001b[0;34m(\u001b[0m\u001b[0;34m'sqlite:///maxplanck.db'\u001b[0m\u001b[0;34m,\u001b[0m \u001b[0mecho\u001b[0m\u001b[0;34m=\u001b[0m\u001b[0;32mFalse\u001b[0m\u001b[0;34m)\u001b[0m\u001b[0;34m\u001b[0m\u001b[0;34m\u001b[0m\u001b[0m\n\u001b[0;32m----> 3\u001b[0;31m         \u001b[0mpersonas\u001b[0m\u001b[0;34m.\u001b[0m\u001b[0mto_sql\u001b[0m\u001b[0;34m(\u001b[0m\u001b[0;34m'personas'\u001b[0m\u001b[0;34m,\u001b[0m \u001b[0mcon\u001b[0m\u001b[0;34m=\u001b[0m\u001b[0mengine\u001b[0m\u001b[0;34m)\u001b[0m\u001b[0;34m\u001b[0m\u001b[0;34m\u001b[0m\u001b[0m\n\u001b[0m\u001b[1;32m      4\u001b[0m         \u001b[0mregistros\u001b[0m\u001b[0;34m.\u001b[0m\u001b[0mto_sql\u001b[0m\u001b[0;34m(\u001b[0m\u001b[0;34m'registros'\u001b[0m\u001b[0;34m,\u001b[0m \u001b[0mcon\u001b[0m\u001b[0;34m=\u001b[0m\u001b[0mengine\u001b[0m\u001b[0;34m)\u001b[0m\u001b[0;34m\u001b[0m\u001b[0;34m\u001b[0m\u001b[0m\n\u001b[1;32m      5\u001b[0m         \u001b[0mareas\u001b[0m\u001b[0;34m.\u001b[0m\u001b[0mto_sql\u001b[0m\u001b[0;34m(\u001b[0m\u001b[0;34m'areas'\u001b[0m\u001b[0;34m,\u001b[0m \u001b[0mcon\u001b[0m\u001b[0;34m=\u001b[0m\u001b[0mengine\u001b[0m\u001b[0;34m)\u001b[0m\u001b[0;34m\u001b[0m\u001b[0;34m\u001b[0m\u001b[0m\n",
      "\u001b[0;32m~/anaconda3/lib/python3.7/site-packages/pandas/core/generic.py\u001b[0m in \u001b[0;36mto_sql\u001b[0;34m(self, name, con, schema, if_exists, index, index_label, chunksize, dtype, method)\u001b[0m\n\u001b[1;32m   2529\u001b[0m         sql.to_sql(self, name, con, schema=schema, if_exists=if_exists,\n\u001b[1;32m   2530\u001b[0m                    \u001b[0mindex\u001b[0m\u001b[0;34m=\u001b[0m\u001b[0mindex\u001b[0m\u001b[0;34m,\u001b[0m \u001b[0mindex_label\u001b[0m\u001b[0;34m=\u001b[0m\u001b[0mindex_label\u001b[0m\u001b[0;34m,\u001b[0m \u001b[0mchunksize\u001b[0m\u001b[0;34m=\u001b[0m\u001b[0mchunksize\u001b[0m\u001b[0;34m,\u001b[0m\u001b[0;34m\u001b[0m\u001b[0;34m\u001b[0m\u001b[0m\n\u001b[0;32m-> 2531\u001b[0;31m                    dtype=dtype, method=method)\n\u001b[0m\u001b[1;32m   2532\u001b[0m \u001b[0;34m\u001b[0m\u001b[0m\n\u001b[1;32m   2533\u001b[0m     def to_pickle(self, path, compression='infer',\n",
      "\u001b[0;32m~/anaconda3/lib/python3.7/site-packages/pandas/io/sql.py\u001b[0m in \u001b[0;36mto_sql\u001b[0;34m(frame, name, con, schema, if_exists, index, index_label, chunksize, dtype, method)\u001b[0m\n\u001b[1;32m    458\u001b[0m     pandas_sql.to_sql(frame, name, if_exists=if_exists, index=index,\n\u001b[1;32m    459\u001b[0m                       \u001b[0mindex_label\u001b[0m\u001b[0;34m=\u001b[0m\u001b[0mindex_label\u001b[0m\u001b[0;34m,\u001b[0m \u001b[0mschema\u001b[0m\u001b[0;34m=\u001b[0m\u001b[0mschema\u001b[0m\u001b[0;34m,\u001b[0m\u001b[0;34m\u001b[0m\u001b[0;34m\u001b[0m\u001b[0m\n\u001b[0;32m--> 460\u001b[0;31m                       chunksize=chunksize, dtype=dtype, method=method)\n\u001b[0m\u001b[1;32m    461\u001b[0m \u001b[0;34m\u001b[0m\u001b[0m\n\u001b[1;32m    462\u001b[0m \u001b[0;34m\u001b[0m\u001b[0m\n",
      "\u001b[0;32m~/anaconda3/lib/python3.7/site-packages/pandas/io/sql.py\u001b[0m in \u001b[0;36mto_sql\u001b[0;34m(self, frame, name, if_exists, index, index_label, schema, chunksize, dtype, method)\u001b[0m\n\u001b[1;32m   1171\u001b[0m                          \u001b[0mif_exists\u001b[0m\u001b[0;34m=\u001b[0m\u001b[0mif_exists\u001b[0m\u001b[0;34m,\u001b[0m \u001b[0mindex_label\u001b[0m\u001b[0;34m=\u001b[0m\u001b[0mindex_label\u001b[0m\u001b[0;34m,\u001b[0m\u001b[0;34m\u001b[0m\u001b[0;34m\u001b[0m\u001b[0m\n\u001b[1;32m   1172\u001b[0m                          schema=schema, dtype=dtype)\n\u001b[0;32m-> 1173\u001b[0;31m         \u001b[0mtable\u001b[0m\u001b[0;34m.\u001b[0m\u001b[0mcreate\u001b[0m\u001b[0;34m(\u001b[0m\u001b[0;34m)\u001b[0m\u001b[0;34m\u001b[0m\u001b[0;34m\u001b[0m\u001b[0m\n\u001b[0m\u001b[1;32m   1174\u001b[0m         \u001b[0mtable\u001b[0m\u001b[0;34m.\u001b[0m\u001b[0minsert\u001b[0m\u001b[0;34m(\u001b[0m\u001b[0mchunksize\u001b[0m\u001b[0;34m,\u001b[0m \u001b[0mmethod\u001b[0m\u001b[0;34m=\u001b[0m\u001b[0mmethod\u001b[0m\u001b[0;34m)\u001b[0m\u001b[0;34m\u001b[0m\u001b[0;34m\u001b[0m\u001b[0m\n\u001b[1;32m   1175\u001b[0m         \u001b[0;32mif\u001b[0m \u001b[0;34m(\u001b[0m\u001b[0;32mnot\u001b[0m \u001b[0mname\u001b[0m\u001b[0;34m.\u001b[0m\u001b[0misdigit\u001b[0m\u001b[0;34m(\u001b[0m\u001b[0;34m)\u001b[0m \u001b[0;32mand\u001b[0m \u001b[0;32mnot\u001b[0m \u001b[0mname\u001b[0m\u001b[0;34m.\u001b[0m\u001b[0mislower\u001b[0m\u001b[0;34m(\u001b[0m\u001b[0;34m)\u001b[0m\u001b[0;34m)\u001b[0m\u001b[0;34m:\u001b[0m\u001b[0;34m\u001b[0m\u001b[0;34m\u001b[0m\u001b[0m\n",
      "\u001b[0;32m~/anaconda3/lib/python3.7/site-packages/pandas/io/sql.py\u001b[0m in \u001b[0;36mcreate\u001b[0;34m(self)\u001b[0m\n\u001b[1;32m    573\u001b[0m             \u001b[0;32mif\u001b[0m \u001b[0mself\u001b[0m\u001b[0;34m.\u001b[0m\u001b[0mif_exists\u001b[0m \u001b[0;34m==\u001b[0m \u001b[0;34m'fail'\u001b[0m\u001b[0;34m:\u001b[0m\u001b[0;34m\u001b[0m\u001b[0;34m\u001b[0m\u001b[0m\n\u001b[1;32m    574\u001b[0m                 raise ValueError(\n\u001b[0;32m--> 575\u001b[0;31m                     \"Table '{name}' already exists.\".format(name=self.name))\n\u001b[0m\u001b[1;32m    576\u001b[0m             \u001b[0;32melif\u001b[0m \u001b[0mself\u001b[0m\u001b[0;34m.\u001b[0m\u001b[0mif_exists\u001b[0m \u001b[0;34m==\u001b[0m \u001b[0;34m'replace'\u001b[0m\u001b[0;34m:\u001b[0m\u001b[0;34m\u001b[0m\u001b[0;34m\u001b[0m\u001b[0m\n\u001b[1;32m    577\u001b[0m                 \u001b[0mself\u001b[0m\u001b[0;34m.\u001b[0m\u001b[0mpd_sql\u001b[0m\u001b[0;34m.\u001b[0m\u001b[0mdrop_table\u001b[0m\u001b[0;34m(\u001b[0m\u001b[0mself\u001b[0m\u001b[0;34m.\u001b[0m\u001b[0mname\u001b[0m\u001b[0;34m,\u001b[0m \u001b[0mself\u001b[0m\u001b[0;34m.\u001b[0m\u001b[0mschema\u001b[0m\u001b[0;34m)\u001b[0m\u001b[0;34m\u001b[0m\u001b[0;34m\u001b[0m\u001b[0m\n",
      "\u001b[0;31mValueError\u001b[0m: Table 'personas' already exists."
     ]
    }
   ],
   "source": [
    "try:\n",
    "        engine = create_engine('sqlite:///maxplanck.db', echo=False)\n",
    "        personas.to_sql('personas', con=engine)\n",
    "        registros.to_sql('registros', con=engine)\n",
    "        areas.to_sql('areas', con=engine)\n",
    "        detregistros.to_sql('detregistros', con=engine)\n",
    "        print(\"Se crearon correctamente las tablas\")  \n",
    "except sqlite3.OperationalError:print(\"Las tablas ya existen\") "
   ]
  },
  {
   "cell_type": "markdown",
   "metadata": {},
   "source": [
    "## Persistencia y Serialización"
   ]
  },
  {
   "cell_type": "code",
   "execution_count": 11,
   "metadata": {},
   "outputs": [],
   "source": [
    "import pickle\n",
    "import pandas as pd\n",
    "import pymysql\n",
    "#from sqlalchemy \n",
    "import sqlalchemy\n",
    "import sqlite3"
   ]
  },
  {
   "cell_type": "code",
   "execution_count": 12,
   "metadata": {},
   "outputs": [],
   "source": [
    "con = sqlite3.connect('maxplanck.db')"
   ]
  },
  {
   "cell_type": "markdown",
   "metadata": {},
   "source": [
    "* Lectura de tablas de maxplanck.sql"
   ]
  },
  {
   "cell_type": "code",
   "execution_count": 13,
   "metadata": {},
   "outputs": [
    {
     "data": {
      "text/html": [
       "<div>\n",
       "<style scoped>\n",
       "    .dataframe tbody tr th:only-of-type {\n",
       "        vertical-align: middle;\n",
       "    }\n",
       "\n",
       "    .dataframe tbody tr th {\n",
       "        vertical-align: top;\n",
       "    }\n",
       "\n",
       "    .dataframe thead th {\n",
       "        text-align: right;\n",
       "    }\n",
       "</style>\n",
       "<table border=\"1\" class=\"dataframe\">\n",
       "  <thead>\n",
       "    <tr style=\"text-align: right;\">\n",
       "      <th></th>\n",
       "      <th>index</th>\n",
       "      <th>idarea</th>\n",
       "      <th>Curso</th>\n",
       "    </tr>\n",
       "  </thead>\n",
       "  <tbody>\n",
       "    <tr>\n",
       "      <th>0</th>\n",
       "      <td>0</td>\n",
       "      <td>1</td>\n",
       "      <td>ALEM</td>\n",
       "    </tr>\n",
       "    <tr>\n",
       "      <th>1</th>\n",
       "      <td>1</td>\n",
       "      <td>1</td>\n",
       "      <td>ALEM</td>\n",
       "    </tr>\n",
       "  </tbody>\n",
       "</table>\n",
       "</div>"
      ],
      "text/plain": [
       "   index  idarea Curso\n",
       "0      0       1  ALEM\n",
       "1      1       1  ALEM"
      ]
     },
     "execution_count": 13,
     "metadata": {},
     "output_type": "execute_result"
    }
   ],
   "source": [
    "sql=\"select * from areas\"\n",
    "cursos=pd.read_sql_query(sql,con)\n",
    "cursos.head(2)"
   ]
  },
  {
   "cell_type": "code",
   "execution_count": 14,
   "metadata": {},
   "outputs": [
    {
     "data": {
      "text/html": [
       "<div>\n",
       "<style scoped>\n",
       "    .dataframe tbody tr th:only-of-type {\n",
       "        vertical-align: middle;\n",
       "    }\n",
       "\n",
       "    .dataframe tbody tr th {\n",
       "        vertical-align: top;\n",
       "    }\n",
       "\n",
       "    .dataframe thead th {\n",
       "        text-align: right;\n",
       "    }\n",
       "</style>\n",
       "<table border=\"1\" class=\"dataframe\">\n",
       "  <thead>\n",
       "    <tr style=\"text-align: right;\">\n",
       "      <th></th>\n",
       "      <th>index</th>\n",
       "      <th>idpers</th>\n",
       "      <th>nombres</th>\n",
       "      <th>apellidos</th>\n",
       "      <th>dni</th>\n",
       "      <th>direccion</th>\n",
       "    </tr>\n",
       "  </thead>\n",
       "  <tbody>\n",
       "    <tr>\n",
       "      <th>0</th>\n",
       "      <td>0</td>\n",
       "      <td>10500</td>\n",
       "      <td>CARLOS</td>\n",
       "      <td>ARAUJO VERA</td>\n",
       "      <td></td>\n",
       "      <td>None</td>\n",
       "    </tr>\n",
       "    <tr>\n",
       "      <th>1</th>\n",
       "      <td>1</td>\n",
       "      <td>10500</td>\n",
       "      <td>CARLOS</td>\n",
       "      <td>ARAUJO VERA</td>\n",
       "      <td></td>\n",
       "      <td>None</td>\n",
       "    </tr>\n",
       "  </tbody>\n",
       "</table>\n",
       "</div>"
      ],
      "text/plain": [
       "   index  idpers nombres    apellidos dni direccion\n",
       "0      0   10500  CARLOS  ARAUJO VERA          None\n",
       "1      1   10500  CARLOS  ARAUJO VERA          None"
      ]
     },
     "execution_count": 14,
     "metadata": {},
     "output_type": "execute_result"
    }
   ],
   "source": [
    "sql=\"select *  from personas\"\n",
    "alum=pd.read_sql_query(sql,con)\n",
    "alum.head(2)"
   ]
  },
  {
   "cell_type": "markdown",
   "metadata": {},
   "source": [
    "### Serializacion"
   ]
  },
  {
   "cell_type": "markdown",
   "metadata": {},
   "source": [
    "* Tabla 'Curso'"
   ]
  },
  {
   "cell_type": "code",
   "execution_count": 15,
   "metadata": {},
   "outputs": [],
   "source": [
    "### funcion \"dump\" guardar datos\n",
    "with open(\"cursos.csv\", \"bw\") as archivo:\n",
    "    pickle.dump(cursos, archivo)"
   ]
  },
  {
   "cell_type": "code",
   "execution_count": 16,
   "metadata": {},
   "outputs": [],
   "source": [
    "### funcion \"Load\" cargar datos\n",
    "with open(\"cursos.csv\", \"br\") as archivo:\n",
    "    curso=pickle.load(archivo)\n",
    "    #print(reg)"
   ]
  },
  {
   "cell_type": "markdown",
   "metadata": {},
   "source": [
    "* Tabla 'alumnos'"
   ]
  },
  {
   "cell_type": "code",
   "execution_count": 17,
   "metadata": {},
   "outputs": [],
   "source": [
    "### funcion \"dump\" guardar datos\n",
    "with open(\"alumnos.csv\", \"bw\") as archivo:\n",
    "    pickle.dump(alum, archivo)"
   ]
  },
  {
   "cell_type": "markdown",
   "metadata": {},
   "source": [
    "### Persistencia"
   ]
  },
  {
   "cell_type": "code",
   "execution_count": 18,
   "metadata": {},
   "outputs": [],
   "source": [
    "key ='1'\n",
    "data = alum # Tabla 'ALUMNO'\n",
    "#[(12345, \"BASE DE DATOS\"), (12346, \"DAPP\")]"
   ]
  },
  {
   "cell_type": "code",
   "execution_count": 19,
   "metadata": {},
   "outputs": [],
   "source": [
    "import shelve\n",
    "\n",
    "d = shelve.open('respaldo.db')  # open -- file may get suffix added by low-level\n",
    "                           # library\n",
    "\n",
    "d[key] = data              # store data at key (overwrites old data if\n",
    "                           # using an existing key)\n",
    "data = d[key]              # retrieve a COPY of data at key (raise KeyError\n",
    "                           # if no such key)\n",
    "del d[key]                 # delete data stored at key (raises KeyError\n",
    "                           # if no such key)\n",
    "\n",
    "flag = key in d            # true if the key exists\n",
    "klist = list(d.keys())     # a list of all existing keys (slow!)\n",
    "\n",
    "# as d was opened WITHOUT writeback=True, beware:\n",
    "d['xx'] = [0, 1, 2]        # this works as expected, but...\n",
    "d['xx'].append(3)          # *this doesn't!* -- d['xx'] is STILL [0, 1, 2]!\n",
    "\n",
    "# having opened d without writeback=True, you need to code carefully:\n",
    "temp = d['xx']             # extracts the copy\n",
    "temp.append(5)             # mutates the copy\n",
    "d['xx'] = temp             # stores the copy right back, to persist it\n",
    "\n",
    "d.close()                  # close it"
   ]
  },
  {
   "cell_type": "markdown",
   "metadata": {},
   "source": [
    "### Especificación del Dataset"
   ]
  },
  {
   "cell_type": "markdown",
   "metadata": {},
   "source": [
    "* Conexión a la Base de Datos"
   ]
  },
  {
   "cell_type": "code",
   "execution_count": 21,
   "metadata": {},
   "outputs": [],
   "source": [
    "maxplanck=pymysql.connect(host='13.85.29.21', port=3306, user='admin', password='admin', db='maxplanck')"
   ]
  },
  {
   "cell_type": "markdown",
   "metadata": {},
   "source": [
    "* Lectura de tablas"
   ]
  },
  {
   "cell_type": "code",
   "execution_count": 22,
   "metadata": {},
   "outputs": [],
   "source": [
    "personas = pd.read_sql_query(\"select  registros.idpers, personas.idpers, nombres, apellidos, dni, direccion from personas inner join registros on personas.idpers=registros.idpers \", maxplanck)"
   ]
  },
  {
   "cell_type": "code",
   "execution_count": 23,
   "metadata": {},
   "outputs": [],
   "source": [
    "registros = pd.read_sql_query(\"SELECT idreg,  idarea, nivel, grado, bimestre, anio as año from registros\", maxplanck) #idpers,"
   ]
  },
  {
   "cell_type": "code",
   "execution_count": 24,
   "metadata": {},
   "outputs": [],
   "source": [
    "areas = pd.read_sql_query(\"select r.idarea, a.abreviatura as Curso from registros r inner join areas a on r.idarea=a.idarea\", maxplanck)"
   ]
  },
  {
   "cell_type": "code",
   "execution_count": 25,
   "metadata": {},
   "outputs": [],
   "source": [
    "detregistros = pd.read_sql_query(\"SELECT idreg,  nota1, nota2, nota3, nota4,nota5, nota6, nota7, nota8 FROM detregistros\", maxplanck)"
   ]
  },
  {
   "cell_type": "markdown",
   "metadata": {},
   "source": [
    "* Formación del Dataset"
   ]
  },
  {
   "cell_type": "code",
   "execution_count": 26,
   "metadata": {},
   "outputs": [],
   "source": [
    "ve1=pd.concat([personas, registros], axis=1)"
   ]
  },
  {
   "cell_type": "code",
   "execution_count": 27,
   "metadata": {},
   "outputs": [],
   "source": [
    "ve2=pd.merge(registros, detregistros, on='idreg')"
   ]
  },
  {
   "cell_type": "code",
   "execution_count": 28,
   "metadata": {},
   "outputs": [],
   "source": [
    "ve3=pd.concat([areas, registros], axis=1)"
   ]
  },
  {
   "cell_type": "code",
   "execution_count": 29,
   "metadata": {},
   "outputs": [],
   "source": [
    "maxplan=pd.concat([ve1, ve2, ve3], axis=1)"
   ]
  },
  {
   "cell_type": "code",
   "execution_count": 30,
   "metadata": {},
   "outputs": [
    {
     "data": {
      "text/html": [
       "<div>\n",
       "<style scoped>\n",
       "    .dataframe tbody tr th:only-of-type {\n",
       "        vertical-align: middle;\n",
       "    }\n",
       "\n",
       "    .dataframe tbody tr th {\n",
       "        vertical-align: top;\n",
       "    }\n",
       "\n",
       "    .dataframe thead th {\n",
       "        text-align: right;\n",
       "    }\n",
       "</style>\n",
       "<table border=\"1\" class=\"dataframe\">\n",
       "  <thead>\n",
       "    <tr style=\"text-align: right;\">\n",
       "      <th></th>\n",
       "      <th>idpers</th>\n",
       "      <th>idpers</th>\n",
       "      <th>nombres</th>\n",
       "      <th>apellidos</th>\n",
       "      <th>dni</th>\n",
       "      <th>direccion</th>\n",
       "      <th>idreg</th>\n",
       "      <th>idarea</th>\n",
       "      <th>nivel</th>\n",
       "      <th>grado</th>\n",
       "      <th>...</th>\n",
       "      <th>nota7</th>\n",
       "      <th>nota8</th>\n",
       "      <th>idarea</th>\n",
       "      <th>Curso</th>\n",
       "      <th>idreg</th>\n",
       "      <th>idarea</th>\n",
       "      <th>nivel</th>\n",
       "      <th>grado</th>\n",
       "      <th>bimestre</th>\n",
       "      <th>año</th>\n",
       "    </tr>\n",
       "  </thead>\n",
       "  <tbody>\n",
       "    <tr>\n",
       "      <th>0</th>\n",
       "      <td>10500.0</td>\n",
       "      <td>10500.0</td>\n",
       "      <td>CARLOS</td>\n",
       "      <td>ARAUJO VERA</td>\n",
       "      <td></td>\n",
       "      <td>None</td>\n",
       "      <td>1.0</td>\n",
       "      <td>22.0</td>\n",
       "      <td>PRIMARIA</td>\n",
       "      <td>1.0</td>\n",
       "      <td>...</td>\n",
       "      <td>NaN</td>\n",
       "      <td>NaN</td>\n",
       "      <td>1.0</td>\n",
       "      <td>ALEM</td>\n",
       "      <td>1.0</td>\n",
       "      <td>22.0</td>\n",
       "      <td>PRIMARIA</td>\n",
       "      <td>1.0</td>\n",
       "      <td>1.0</td>\n",
       "      <td>2013.0</td>\n",
       "    </tr>\n",
       "    <tr>\n",
       "      <th>1</th>\n",
       "      <td>10500.0</td>\n",
       "      <td>10500.0</td>\n",
       "      <td>CARLOS</td>\n",
       "      <td>ARAUJO VERA</td>\n",
       "      <td></td>\n",
       "      <td>None</td>\n",
       "      <td>2.0</td>\n",
       "      <td>12.0</td>\n",
       "      <td>PRIMARIA</td>\n",
       "      <td>1.0</td>\n",
       "      <td>...</td>\n",
       "      <td>NaN</td>\n",
       "      <td>NaN</td>\n",
       "      <td>1.0</td>\n",
       "      <td>ALEM</td>\n",
       "      <td>2.0</td>\n",
       "      <td>12.0</td>\n",
       "      <td>PRIMARIA</td>\n",
       "      <td>1.0</td>\n",
       "      <td>1.0</td>\n",
       "      <td>2013.0</td>\n",
       "    </tr>\n",
       "    <tr>\n",
       "      <th>2</th>\n",
       "      <td>10500.0</td>\n",
       "      <td>10500.0</td>\n",
       "      <td>CARLOS</td>\n",
       "      <td>ARAUJO VERA</td>\n",
       "      <td></td>\n",
       "      <td>None</td>\n",
       "      <td>3.0</td>\n",
       "      <td>26.0</td>\n",
       "      <td>PRIMARIA</td>\n",
       "      <td>1.0</td>\n",
       "      <td>...</td>\n",
       "      <td>NaN</td>\n",
       "      <td>NaN</td>\n",
       "      <td>1.0</td>\n",
       "      <td>ALEM</td>\n",
       "      <td>3.0</td>\n",
       "      <td>26.0</td>\n",
       "      <td>PRIMARIA</td>\n",
       "      <td>1.0</td>\n",
       "      <td>1.0</td>\n",
       "      <td>2013.0</td>\n",
       "    </tr>\n",
       "  </tbody>\n",
       "</table>\n",
       "<p>3 rows × 34 columns</p>\n",
       "</div>"
      ],
      "text/plain": [
       "    idpers   idpers nombres    apellidos dni direccion idreg  idarea  \\\n",
       "0  10500.0  10500.0  CARLOS  ARAUJO VERA          None   1.0    22.0   \n",
       "1  10500.0  10500.0  CARLOS  ARAUJO VERA          None   2.0    12.0   \n",
       "2  10500.0  10500.0  CARLOS  ARAUJO VERA          None   3.0    26.0   \n",
       "\n",
       "      nivel  grado  ...  nota7  nota8  idarea  Curso idreg  idarea     nivel  \\\n",
       "0  PRIMARIA    1.0  ...    NaN    NaN     1.0   ALEM   1.0    22.0  PRIMARIA   \n",
       "1  PRIMARIA    1.0  ...    NaN    NaN     1.0   ALEM   2.0    12.0  PRIMARIA   \n",
       "2  PRIMARIA    1.0  ...    NaN    NaN     1.0   ALEM   3.0    26.0  PRIMARIA   \n",
       "\n",
       "   grado  bimestre     año  \n",
       "0    1.0       1.0  2013.0  \n",
       "1    1.0       1.0  2013.0  \n",
       "2    1.0       1.0  2013.0  \n",
       "\n",
       "[3 rows x 34 columns]"
      ]
     },
     "execution_count": 30,
     "metadata": {},
     "output_type": "execute_result"
    }
   ],
   "source": [
    "maxplan.head(3)"
   ]
  },
  {
   "cell_type": "markdown",
   "metadata": {},
   "source": [
    "* Creación del Dataset"
   ]
  },
  {
   "cell_type": "code",
   "execution_count": 41,
   "metadata": {},
   "outputs": [],
   "source": [
    "maxplan.to_csv('colegiomp.csv')"
   ]
  },
  {
   "cell_type": "markdown",
   "metadata": {},
   "source": [
    "### ESTADÍSTICA DESCRIPTIVA"
   ]
  },
  {
   "cell_type": "markdown",
   "metadata": {},
   "source": [
    "* Leyendo archivo .csv"
   ]
  },
  {
   "cell_type": "code",
   "execution_count": 42,
   "metadata": {},
   "outputs": [
    {
     "data": {
      "text/html": [
       "<div>\n",
       "<style scoped>\n",
       "    .dataframe tbody tr th:only-of-type {\n",
       "        vertical-align: middle;\n",
       "    }\n",
       "\n",
       "    .dataframe tbody tr th {\n",
       "        vertical-align: top;\n",
       "    }\n",
       "\n",
       "    .dataframe thead th {\n",
       "        text-align: right;\n",
       "    }\n",
       "</style>\n",
       "<table border=\"1\" class=\"dataframe\">\n",
       "  <thead>\n",
       "    <tr style=\"text-align: right;\">\n",
       "      <th></th>\n",
       "      <th>idpers</th>\n",
       "      <th>idpers.1</th>\n",
       "      <th>nombres</th>\n",
       "      <th>apellidos</th>\n",
       "      <th>dni</th>\n",
       "      <th>direccion</th>\n",
       "      <th>idreg</th>\n",
       "      <th>idarea</th>\n",
       "      <th>nivel</th>\n",
       "      <th>grado</th>\n",
       "      <th>...</th>\n",
       "      <th>nota7</th>\n",
       "      <th>nota8</th>\n",
       "      <th>idarea.2</th>\n",
       "      <th>Curso</th>\n",
       "      <th>idreg.2</th>\n",
       "      <th>idarea.3</th>\n",
       "      <th>nivel.2</th>\n",
       "      <th>grado.2</th>\n",
       "      <th>bimestre.2</th>\n",
       "      <th>año.2</th>\n",
       "    </tr>\n",
       "  </thead>\n",
       "  <tbody>\n",
       "    <tr>\n",
       "      <th>0</th>\n",
       "      <td>10500.0</td>\n",
       "      <td>10500.0</td>\n",
       "      <td>CARLOS</td>\n",
       "      <td>ARAUJO VERA</td>\n",
       "      <td>NaN</td>\n",
       "      <td>NaN</td>\n",
       "      <td>1.0</td>\n",
       "      <td>22.0</td>\n",
       "      <td>PRIMARIA</td>\n",
       "      <td>1.0</td>\n",
       "      <td>...</td>\n",
       "      <td>NaN</td>\n",
       "      <td>NaN</td>\n",
       "      <td>1.0</td>\n",
       "      <td>ALEM</td>\n",
       "      <td>1.0</td>\n",
       "      <td>22.0</td>\n",
       "      <td>PRIMARIA</td>\n",
       "      <td>1.0</td>\n",
       "      <td>1.0</td>\n",
       "      <td>2013.0</td>\n",
       "    </tr>\n",
       "    <tr>\n",
       "      <th>1</th>\n",
       "      <td>10500.0</td>\n",
       "      <td>10500.0</td>\n",
       "      <td>CARLOS</td>\n",
       "      <td>ARAUJO VERA</td>\n",
       "      <td>NaN</td>\n",
       "      <td>NaN</td>\n",
       "      <td>2.0</td>\n",
       "      <td>12.0</td>\n",
       "      <td>PRIMARIA</td>\n",
       "      <td>1.0</td>\n",
       "      <td>...</td>\n",
       "      <td>NaN</td>\n",
       "      <td>NaN</td>\n",
       "      <td>1.0</td>\n",
       "      <td>ALEM</td>\n",
       "      <td>2.0</td>\n",
       "      <td>12.0</td>\n",
       "      <td>PRIMARIA</td>\n",
       "      <td>1.0</td>\n",
       "      <td>1.0</td>\n",
       "      <td>2013.0</td>\n",
       "    </tr>\n",
       "    <tr>\n",
       "      <th>2</th>\n",
       "      <td>10500.0</td>\n",
       "      <td>10500.0</td>\n",
       "      <td>CARLOS</td>\n",
       "      <td>ARAUJO VERA</td>\n",
       "      <td>NaN</td>\n",
       "      <td>NaN</td>\n",
       "      <td>3.0</td>\n",
       "      <td>26.0</td>\n",
       "      <td>PRIMARIA</td>\n",
       "      <td>1.0</td>\n",
       "      <td>...</td>\n",
       "      <td>NaN</td>\n",
       "      <td>NaN</td>\n",
       "      <td>1.0</td>\n",
       "      <td>ALEM</td>\n",
       "      <td>3.0</td>\n",
       "      <td>26.0</td>\n",
       "      <td>PRIMARIA</td>\n",
       "      <td>1.0</td>\n",
       "      <td>1.0</td>\n",
       "      <td>2013.0</td>\n",
       "    </tr>\n",
       "  </tbody>\n",
       "</table>\n",
       "<p>3 rows × 34 columns</p>\n",
       "</div>"
      ],
      "text/plain": [
       "    idpers  idpers.1 nombres    apellidos  dni  direccion  idreg  idarea  \\\n",
       "0  10500.0   10500.0  CARLOS  ARAUJO VERA  NaN        NaN    1.0    22.0   \n",
       "1  10500.0   10500.0  CARLOS  ARAUJO VERA  NaN        NaN    2.0    12.0   \n",
       "2  10500.0   10500.0  CARLOS  ARAUJO VERA  NaN        NaN    3.0    26.0   \n",
       "\n",
       "      nivel  grado  ...  nota7  nota8  idarea.2  Curso idreg.2  idarea.3  \\\n",
       "0  PRIMARIA    1.0  ...    NaN    NaN       1.0   ALEM     1.0      22.0   \n",
       "1  PRIMARIA    1.0  ...    NaN    NaN       1.0   ALEM     2.0      12.0   \n",
       "2  PRIMARIA    1.0  ...    NaN    NaN       1.0   ALEM     3.0      26.0   \n",
       "\n",
       "    nivel.2  grado.2  bimestre.2   año.2  \n",
       "0  PRIMARIA      1.0         1.0  2013.0  \n",
       "1  PRIMARIA      1.0         1.0  2013.0  \n",
       "2  PRIMARIA      1.0         1.0  2013.0  \n",
       "\n",
       "[3 rows x 34 columns]"
      ]
     },
     "execution_count": 42,
     "metadata": {},
     "output_type": "execute_result"
    }
   ],
   "source": [
    "mp=pd.read_csv('colegiomp.csv', index_col=0)\n",
    "mp.head(3)"
   ]
  },
  {
   "cell_type": "markdown",
   "metadata": {},
   "source": [
    "* MEDIA() "
   ]
  },
  {
   "cell_type": "code",
   "execution_count": 33,
   "metadata": {},
   "outputs": [
    {
     "data": {
      "text/plain": [
       "idpers        11424.148592\n",
       "idpers.1      11424.148592\n",
       "dni                    NaN\n",
       "direccion              NaN\n",
       "idreg          6417.810027\n",
       "idarea           19.760965\n",
       "grado             3.318741\n",
       "bimestre          2.500289\n",
       "año            2015.859503\n",
       "idreg.1        5487.173576\n",
       "idarea.1         18.467858\n",
       "grado.1           3.443539\n",
       "bimestre.1        2.330420\n",
       "año.1          2015.446352\n",
       "nota1            11.039512\n",
       "nota2            12.289457\n",
       "nota3            11.311630\n",
       "nota4            11.329187\n",
       "nota5             6.014107\n",
       "nota6             9.595472\n",
       "nota7             6.109439\n",
       "nota8             3.731119\n",
       "idarea.2         19.760965\n",
       "idreg.2        6417.810027\n",
       "idarea.3         19.760965\n",
       "grado.2           3.318741\n",
       "bimestre.2        2.500289\n",
       "año.2          2015.859503\n",
       "dtype: float64"
      ]
     },
     "execution_count": 33,
     "metadata": {},
     "output_type": "execute_result"
    }
   ],
   "source": [
    "mp.mean()"
   ]
  },
  {
   "cell_type": "markdown",
   "metadata": {},
   "source": [
    "* MÁXIMO()"
   ]
  },
  {
   "cell_type": "code",
   "execution_count": 34,
   "metadata": {},
   "outputs": [
    {
     "data": {
      "text/plain": [
       "idpers             18019\n",
       "idpers.1           18019\n",
       "dni                  NaN\n",
       "direccion            NaN\n",
       "idreg              12878\n",
       "idarea                43\n",
       "grado                  6\n",
       "bimestre               4\n",
       "año                 2018\n",
       "idreg.1            12869\n",
       "idarea.1              43\n",
       "nivel.1       SECUNDARIA\n",
       "grado.1                6\n",
       "bimestre.1             4\n",
       "año.1               2018\n",
       "nota1                 20\n",
       "nota2                 20\n",
       "nota3                 20\n",
       "nota4                 20\n",
       "nota5                 20\n",
       "nota6                 20\n",
       "nota7                 20\n",
       "nota8                 20\n",
       "idarea.2              43\n",
       "idreg.2            12878\n",
       "idarea.3              43\n",
       "grado.2                6\n",
       "bimestre.2             4\n",
       "año.2               2018\n",
       "dtype: object"
      ]
     },
     "execution_count": 34,
     "metadata": {},
     "output_type": "execute_result"
    }
   ],
   "source": [
    "mp.max()"
   ]
  },
  {
   "cell_type": "markdown",
   "metadata": {},
   "source": [
    "* MÍNIMO()"
   ]
  },
  {
   "cell_type": "code",
   "execution_count": 35,
   "metadata": {},
   "outputs": [
    {
     "data": {
      "text/plain": [
       "idpers           10500\n",
       "idpers.1         10500\n",
       "dni                NaN\n",
       "direccion          NaN\n",
       "idreg                1\n",
       "idarea               1\n",
       "grado                1\n",
       "bimestre             1\n",
       "año               2013\n",
       "idreg.1              1\n",
       "idarea.1             1\n",
       "nivel.1       PRIMARIA\n",
       "grado.1              1\n",
       "bimestre.1           1\n",
       "año.1             2013\n",
       "nota1                0\n",
       "nota2                0\n",
       "nota3                0\n",
       "nota4                0\n",
       "nota5                0\n",
       "nota6                0\n",
       "nota7                0\n",
       "nota8                0\n",
       "idarea.2             1\n",
       "idreg.2              1\n",
       "idarea.3             1\n",
       "grado.2              1\n",
       "bimestre.2           1\n",
       "año.2             2013\n",
       "dtype: object"
      ]
     },
     "execution_count": 35,
     "metadata": {},
     "output_type": "execute_result"
    }
   ],
   "source": [
    "mp.min()"
   ]
  },
  {
   "cell_type": "markdown",
   "metadata": {},
   "source": [
    "* CUARTILES()"
   ]
  },
  {
   "cell_type": "code",
   "execution_count": 36,
   "metadata": {},
   "outputs": [
    {
     "data": {
      "text/plain": [
       "idpers        10557.0\n",
       "idpers.1      10557.0\n",
       "dni               NaN\n",
       "direccion         NaN\n",
       "idreg          6407.0\n",
       "idarea           20.0\n",
       "grado             3.0\n",
       "bimestre          3.0\n",
       "año            2016.0\n",
       "idreg.1        5627.0\n",
       "idarea.1         19.0\n",
       "grado.1           4.0\n",
       "bimestre.1        2.0\n",
       "año.1          2016.0\n",
       "nota1            13.0\n",
       "nota2            14.0\n",
       "nota3            13.0\n",
       "nota4            14.0\n",
       "nota5             0.0\n",
       "nota6            12.0\n",
       "nota7             0.0\n",
       "nota8             0.0\n",
       "idarea.2         20.0\n",
       "idreg.2        6407.0\n",
       "idarea.3         20.0\n",
       "grado.2           3.0\n",
       "bimestre.2        3.0\n",
       "año.2          2016.0\n",
       "Name: 0.5, dtype: float64"
      ]
     },
     "execution_count": 36,
     "metadata": {},
     "output_type": "execute_result"
    }
   ],
   "source": [
    "mp.quantile()"
   ]
  },
  {
   "cell_type": "markdown",
   "metadata": {},
   "source": [
    "* PERCETILES()"
   ]
  },
  {
   "cell_type": "code",
   "execution_count": 37,
   "metadata": {},
   "outputs": [
    {
     "name": "stderr",
     "output_type": "stream",
     "text": [
      "/home/prueba/anaconda3/lib/python3.7/site-packages/numpy/lib/function_base.py:3826: RuntimeWarning: Invalid value encountered in percentile\n",
      "  interpolation=interpolation)\n"
     ]
    },
    {
     "data": {
      "text/plain": [
       "nan"
      ]
     },
     "execution_count": 37,
     "metadata": {},
     "output_type": "execute_result"
    }
   ],
   "source": [
    "a=np.array([mp.nota1, mp.nota2, mp.nota3, mp.nota4, mp.nota5, mp.nota6, mp.nota7, mp.nota8])\n",
    "p=np.percentile(a, 100)\n",
    "p"
   ]
  },
  {
   "cell_type": "markdown",
   "metadata": {},
   "source": [
    "### CONSULTAS SQL"
   ]
  },
  {
   "cell_type": "code",
   "execution_count": 39,
   "metadata": {},
   "outputs": [],
   "source": [
    "maxplanck=pymysql.connect(host='13.85.29.21', port=3306, user='admin', password='admin', db='maxplanck')"
   ]
  },
  {
   "cell_type": "code",
   "execution_count": 40,
   "metadata": {},
   "outputs": [
    {
     "data": {
      "text/html": [
       "<div>\n",
       "<style scoped>\n",
       "    .dataframe tbody tr th:only-of-type {\n",
       "        vertical-align: middle;\n",
       "    }\n",
       "\n",
       "    .dataframe tbody tr th {\n",
       "        vertical-align: top;\n",
       "    }\n",
       "\n",
       "    .dataframe thead th {\n",
       "        text-align: right;\n",
       "    }\n",
       "</style>\n",
       "<table border=\"1\" class=\"dataframe\">\n",
       "  <thead>\n",
       "    <tr style=\"text-align: right;\">\n",
       "      <th></th>\n",
       "      <th>area</th>\n",
       "      <th>nivel</th>\n",
       "    </tr>\n",
       "  </thead>\n",
       "  <tbody>\n",
       "    <tr>\n",
       "      <th>0</th>\n",
       "      <td>ALEMÁN</td>\n",
       "      <td>PRIMARIA</td>\n",
       "    </tr>\n",
       "    <tr>\n",
       "      <th>1</th>\n",
       "      <td>ARTE</td>\n",
       "      <td>PRIMARIA</td>\n",
       "    </tr>\n",
       "    <tr>\n",
       "      <th>2</th>\n",
       "      <td>CIENCIA Y AMBIENTE</td>\n",
       "      <td>PRIMARIA</td>\n",
       "    </tr>\n",
       "  </tbody>\n",
       "</table>\n",
       "</div>"
      ],
      "text/plain": [
       "                 area     nivel\n",
       "0              ALEMÁN  PRIMARIA\n",
       "1                ARTE  PRIMARIA\n",
       "2  CIENCIA Y AMBIENTE  PRIMARIA"
      ]
     },
     "execution_count": 40,
     "metadata": {},
     "output_type": "execute_result"
    }
   ],
   "source": [
    "#CANTIDAD DE ALUMNOS APROBADOS POR NIVEL Y AÑO\n",
    "c1=pd.read_sql(\"\"\"select areas.area, registros.nivel\n",
    "from areas \n",
    "inner join registros \n",
    "on areas.idarea=registros.idarea\n",
    "where registros.nivel='PRIMARIA' \n",
    "group by registros.nivel, areas.area\n",
    "union\n",
    "select areas.area, registros.nivel\n",
    "from areas\n",
    "inner join registros \n",
    "on areas.idarea=registros.idarea\n",
    "where registros.nivel='SECUNDARIA' \n",
    "group by registros.nivel, areas.area\"\"\", maxplanck)\n",
    "c1.head(3)"
   ]
  },
  {
   "cell_type": "code",
   "execution_count": 55,
   "metadata": {},
   "outputs": [
    {
     "data": {
      "text/html": [
       "<div>\n",
       "<style scoped>\n",
       "    .dataframe tbody tr th:only-of-type {\n",
       "        vertical-align: middle;\n",
       "    }\n",
       "\n",
       "    .dataframe tbody tr th {\n",
       "        vertical-align: top;\n",
       "    }\n",
       "\n",
       "    .dataframe thead th {\n",
       "        text-align: right;\n",
       "    }\n",
       "</style>\n",
       "<table border=\"1\" class=\"dataframe\">\n",
       "  <thead>\n",
       "    <tr style=\"text-align: right;\">\n",
       "      <th></th>\n",
       "      <th>CantAprobados14</th>\n",
       "      <th>grado</th>\n",
       "      <th>nivel</th>\n",
       "      <th>Año</th>\n",
       "    </tr>\n",
       "  </thead>\n",
       "  <tbody>\n",
       "    <tr>\n",
       "      <th>0</th>\n",
       "      <td>25</td>\n",
       "      <td>1</td>\n",
       "      <td>PRIMARIA</td>\n",
       "      <td>2015</td>\n",
       "    </tr>\n",
       "    <tr>\n",
       "      <th>1</th>\n",
       "      <td>31</td>\n",
       "      <td>1</td>\n",
       "      <td>SECUNDARIA</td>\n",
       "      <td>2015</td>\n",
       "    </tr>\n",
       "    <tr>\n",
       "      <th>2</th>\n",
       "      <td>44</td>\n",
       "      <td>2</td>\n",
       "      <td>PRIMARIA</td>\n",
       "      <td>2015</td>\n",
       "    </tr>\n",
       "  </tbody>\n",
       "</table>\n",
       "</div>"
      ],
      "text/plain": [
       "   CantAprobados14  grado       nivel   Año\n",
       "0               25      1    PRIMARIA  2015\n",
       "1               31      1  SECUNDARIA  2015\n",
       "2               44      2    PRIMARIA  2015"
      ]
     },
     "execution_count": 55,
     "metadata": {},
     "output_type": "execute_result"
    }
   ],
   "source": [
    "# CANTIDAD DE ALUMNOS APROBADOS CON PROMEDIO ALTO POR GRADO. NIVEL Y AÑO\"\"\"\n",
    "c2=pd.read_sql(\"\"\"select count(r.idpers) as CantAprobados14,r.grado, r.nivel, r.anio as Año from detregistros d\n",
    "inner join registros r on r.idreg = d.idreg\n",
    "#inner join areas a on a.idarea = r.idarea\n",
    "where ((d.nota1+d.nota2+d.nota3+d.nota4+d.nota5+d.nota6+d.nota7+d.nota8)/8) >=14 #and r.anio=2015#and a.area ='ARTE' and r.anio=2015\n",
    "#and r.nivel='PRIMARIA' / r.nivel='SECUNDARIA'\n",
    "group by r.anio, r.grado, r.nivel  order by r.anio asc\"\"\", maxplanck)\n",
    "c2.head(3)"
   ]
  },
  {
   "cell_type": "code",
   "execution_count": 56,
   "metadata": {},
   "outputs": [
    {
     "data": {
      "text/html": [
       "<div>\n",
       "<style scoped>\n",
       "    .dataframe tbody tr th:only-of-type {\n",
       "        vertical-align: middle;\n",
       "    }\n",
       "\n",
       "    .dataframe tbody tr th {\n",
       "        vertical-align: top;\n",
       "    }\n",
       "\n",
       "    .dataframe thead th {\n",
       "        text-align: right;\n",
       "    }\n",
       "</style>\n",
       "<table border=\"1\" class=\"dataframe\">\n",
       "  <thead>\n",
       "    <tr style=\"text-align: right;\">\n",
       "      <th></th>\n",
       "      <th>CantAprobados14</th>\n",
       "      <th>bimestre</th>\n",
       "      <th>grado</th>\n",
       "      <th>seccion</th>\n",
       "      <th>nivel</th>\n",
       "    </tr>\n",
       "  </thead>\n",
       "  <tbody>\n",
       "    <tr>\n",
       "      <th>0</th>\n",
       "      <td>71</td>\n",
       "      <td>1</td>\n",
       "      <td>1</td>\n",
       "      <td>U</td>\n",
       "      <td>PRIMARIA</td>\n",
       "    </tr>\n",
       "    <tr>\n",
       "      <th>1</th>\n",
       "      <td>6</td>\n",
       "      <td>1</td>\n",
       "      <td>1</td>\n",
       "      <td>A</td>\n",
       "      <td>PRIMARIA</td>\n",
       "    </tr>\n",
       "    <tr>\n",
       "      <th>2</th>\n",
       "      <td>47</td>\n",
       "      <td>1</td>\n",
       "      <td>1</td>\n",
       "      <td>U</td>\n",
       "      <td>SECUNDARIA</td>\n",
       "    </tr>\n",
       "  </tbody>\n",
       "</table>\n",
       "</div>"
      ],
      "text/plain": [
       "   CantAprobados14  bimestre  grado seccion       nivel\n",
       "0               71         1      1       U    PRIMARIA\n",
       "1                6         1      1       A    PRIMARIA\n",
       "2               47         1      1       U  SECUNDARIA"
      ]
     },
     "execution_count": 56,
     "metadata": {},
     "output_type": "execute_result"
    }
   ],
   "source": [
    "#CANTIDAD DE ALUMNOS APROBADOS CON PROMEDIO ALTO POR BIMESTRE, GRADO Y NIVEL\n",
    "c3=pd.read_sql(\"\"\"select distinct count(r.idpers) as CantAprobados14,r.bimestre, r.grado, r.seccion , r.nivel from detregistros d\n",
    "inner join registros r on r.idreg = d.idreg\n",
    "where ((d.nota1+d.nota2+d.nota3+d.nota4+d.nota5+d.nota6+d.nota7+d.nota8)/8) >=14 #and r.anio=2015#and a.area ='ARTE' and r.anio=2015\n",
    "group by r.bimestre, r.anio, r.grado, r.nivel  \n",
    "order by r.bimestre asc, r.grado asc, r.nivel asc, r.anio desc\"\"\", maxplanck)\n",
    "c3.head(3)"
   ]
  },
  {
   "cell_type": "code",
   "execution_count": 57,
   "metadata": {},
   "outputs": [
    {
     "data": {
      "text/html": [
       "<div>\n",
       "<style scoped>\n",
       "    .dataframe tbody tr th:only-of-type {\n",
       "        vertical-align: middle;\n",
       "    }\n",
       "\n",
       "    .dataframe tbody tr th {\n",
       "        vertical-align: top;\n",
       "    }\n",
       "\n",
       "    .dataframe thead th {\n",
       "        text-align: right;\n",
       "    }\n",
       "</style>\n",
       "<table border=\"1\" class=\"dataframe\">\n",
       "  <thead>\n",
       "    <tr style=\"text-align: right;\">\n",
       "      <th></th>\n",
       "      <th>CantAprobados14</th>\n",
       "      <th>bimestre</th>\n",
       "      <th>grado</th>\n",
       "      <th>nivel</th>\n",
       "      <th>Año</th>\n",
       "    </tr>\n",
       "  </thead>\n",
       "  <tbody>\n",
       "    <tr>\n",
       "      <th>0</th>\n",
       "      <td>71</td>\n",
       "      <td>1</td>\n",
       "      <td>1</td>\n",
       "      <td>PRIMARIA</td>\n",
       "      <td>2018</td>\n",
       "    </tr>\n",
       "    <tr>\n",
       "      <th>1</th>\n",
       "      <td>6</td>\n",
       "      <td>1</td>\n",
       "      <td>1</td>\n",
       "      <td>PRIMARIA</td>\n",
       "      <td>2017</td>\n",
       "    </tr>\n",
       "    <tr>\n",
       "      <th>2</th>\n",
       "      <td>47</td>\n",
       "      <td>1</td>\n",
       "      <td>1</td>\n",
       "      <td>SECUNDARIA</td>\n",
       "      <td>2018</td>\n",
       "    </tr>\n",
       "  </tbody>\n",
       "</table>\n",
       "</div>"
      ],
      "text/plain": [
       "   CantAprobados14  bimestre  grado       nivel   Año\n",
       "0               71         1      1    PRIMARIA  2018\n",
       "1                6         1      1    PRIMARIA  2017\n",
       "2               47         1      1  SECUNDARIA  2018"
      ]
     },
     "execution_count": 57,
     "metadata": {},
     "output_type": "execute_result"
    }
   ],
   "source": [
    "#CANTIDAD DE ALUMNOS APROBADOS PROMEDIO ALTO POR BIMESTRE, GRADO, NIVEL Y AÑO\n",
    "c4=pd.read_sql(\"\"\"select count(r.idpers) as CantAprobados14,r.bimestre, r.grado, r.nivel, r.anio as Año from detregistros d\n",
    "inner join registros r on r.idreg = d.idreg\n",
    "where ((d.nota1+d.nota2+d.nota3+d.nota4+d.nota5+d.nota6+d.nota7+d.nota8)/8) >=14 #and r.anio=2015#and a.area ='ARTE' and r.anio=2015\n",
    "group by r.bimestre, r.anio, r.grado, r.nivel  \n",
    "order by r.bimestre asc, r.grado asc, r.nivel asc, r.anio desc\"\"\", maxplanck)\n",
    "c4.head(3)"
   ]
  },
  {
   "cell_type": "code",
   "execution_count": 58,
   "metadata": {},
   "outputs": [
    {
     "data": {
      "text/html": [
       "<div>\n",
       "<style scoped>\n",
       "    .dataframe tbody tr th:only-of-type {\n",
       "        vertical-align: middle;\n",
       "    }\n",
       "\n",
       "    .dataframe tbody tr th {\n",
       "        vertical-align: top;\n",
       "    }\n",
       "\n",
       "    .dataframe thead th {\n",
       "        text-align: right;\n",
       "    }\n",
       "</style>\n",
       "<table border=\"1\" class=\"dataframe\">\n",
       "  <thead>\n",
       "    <tr style=\"text-align: right;\">\n",
       "      <th></th>\n",
       "      <th>CantAprobados14</th>\n",
       "      <th>bimestre</th>\n",
       "      <th>grado</th>\n",
       "      <th>nivel</th>\n",
       "      <th>Año</th>\n",
       "    </tr>\n",
       "  </thead>\n",
       "  <tbody>\n",
       "    <tr>\n",
       "      <th>0</th>\n",
       "      <td>71</td>\n",
       "      <td>1</td>\n",
       "      <td>1</td>\n",
       "      <td>PRIMARIA</td>\n",
       "      <td>2018</td>\n",
       "    </tr>\n",
       "    <tr>\n",
       "      <th>1</th>\n",
       "      <td>6</td>\n",
       "      <td>1</td>\n",
       "      <td>1</td>\n",
       "      <td>PRIMARIA</td>\n",
       "      <td>2017</td>\n",
       "    </tr>\n",
       "    <tr>\n",
       "      <th>2</th>\n",
       "      <td>47</td>\n",
       "      <td>1</td>\n",
       "      <td>1</td>\n",
       "      <td>SECUNDARIA</td>\n",
       "      <td>2018</td>\n",
       "    </tr>\n",
       "  </tbody>\n",
       "</table>\n",
       "</div>"
      ],
      "text/plain": [
       "   CantAprobados14  bimestre  grado       nivel   Año\n",
       "0               71         1      1    PRIMARIA  2018\n",
       "1                6         1      1    PRIMARIA  2017\n",
       "2               47         1      1  SECUNDARIA  2018"
      ]
     },
     "execution_count": 58,
     "metadata": {},
     "output_type": "execute_result"
    }
   ],
   "source": [
    "#CANTIDAD DE ALUMNOS APROBADOS POR CURSO, BIMESTRE , GRADO, NIVEL Y AÑO\n",
    "c5=pd.read_sql(\"\"\"select count(r.idpers) as CantAprobados14,r.bimestre, r.grado, r.nivel, r.anio as Año from detregistros d\n",
    "inner join registros r on r.idreg = d.idreg\n",
    "where ((d.nota1+d.nota2+d.nota3+d.nota4+d.nota5+d.nota6+d.nota7+d.nota8)/8) >=14 #and r.anio=2015#and a.area ='ARTE' and r.anio=2015\n",
    "group by r.bimestre, r.anio, r.grado, r.nivel  \n",
    "order by r.bimestre asc, r.grado asc, r.nivel asc, r.anio desc\"\"\", maxplanck)\n",
    "c5.head(3)"
   ]
  },
  {
   "cell_type": "code",
   "execution_count": 59,
   "metadata": {},
   "outputs": [
    {
     "data": {
      "text/html": [
       "<div>\n",
       "<style scoped>\n",
       "    .dataframe tbody tr th:only-of-type {\n",
       "        vertical-align: middle;\n",
       "    }\n",
       "\n",
       "    .dataframe tbody tr th {\n",
       "        vertical-align: top;\n",
       "    }\n",
       "\n",
       "    .dataframe thead th {\n",
       "        text-align: right;\n",
       "    }\n",
       "</style>\n",
       "<table border=\"1\" class=\"dataframe\">\n",
       "  <thead>\n",
       "    <tr style=\"text-align: right;\">\n",
       "      <th></th>\n",
       "      <th>CantiAproba11</th>\n",
       "      <th>Curso</th>\n",
       "      <th>Año</th>\n",
       "    </tr>\n",
       "  </thead>\n",
       "  <tbody>\n",
       "    <tr>\n",
       "      <th>0</th>\n",
       "      <td>85</td>\n",
       "      <td>COMPUTACIÓN</td>\n",
       "      <td>2015</td>\n",
       "    </tr>\n",
       "    <tr>\n",
       "      <th>1</th>\n",
       "      <td>73</td>\n",
       "      <td>PERSONAL SOCIAL</td>\n",
       "      <td>2015</td>\n",
       "    </tr>\n",
       "    <tr>\n",
       "      <th>2</th>\n",
       "      <td>309</td>\n",
       "      <td>MATEMÁTICA</td>\n",
       "      <td>2015</td>\n",
       "    </tr>\n",
       "  </tbody>\n",
       "</table>\n",
       "</div>"
      ],
      "text/plain": [
       "   CantiAproba11            Curso   Año\n",
       "0             85      COMPUTACIÓN  2015\n",
       "1             73  PERSONAL SOCIAL  2015\n",
       "2            309       MATEMÁTICA  2015"
      ]
     },
     "execution_count": 59,
     "metadata": {},
     "output_type": "execute_result"
    }
   ],
   "source": [
    "#CANTIDAD DE ALUMNOS APROBADOS POR CURSO Y AÑO\n",
    "c6=pd.read_sql(\"\"\"select count(r.idpers) as CantiAproba11,a.area as Curso,r.anio as Año from detregistros d\n",
    "inner join registros r on r.idreg = d.idreg\n",
    "inner join areas a on a.idarea = r.idarea\n",
    "where ((d.nota1+d.nota2+d.nota3+d.nota4+d.nota5+d.nota6+d.nota7+d.nota8)/8) >=11 #and r.anio=2015#and a.area ='ARTE' and r.anio=2015\n",
    "#order by r.anio asc,a.area asc;\n",
    "group by a.area,r.anio  order by r.anio asc\"\"\", maxplanck)\n",
    "c6.head(3)"
   ]
  },
  {
   "cell_type": "code",
   "execution_count": 60,
   "metadata": {},
   "outputs": [
    {
     "data": {
      "text/html": [
       "<div>\n",
       "<style scoped>\n",
       "    .dataframe tbody tr th:only-of-type {\n",
       "        vertical-align: middle;\n",
       "    }\n",
       "\n",
       "    .dataframe tbody tr th {\n",
       "        vertical-align: top;\n",
       "    }\n",
       "\n",
       "    .dataframe thead th {\n",
       "        text-align: right;\n",
       "    }\n",
       "</style>\n",
       "<table border=\"1\" class=\"dataframe\">\n",
       "  <thead>\n",
       "    <tr style=\"text-align: right;\">\n",
       "      <th></th>\n",
       "      <th>CantiAprobado14</th>\n",
       "      <th>Cursos</th>\n",
       "      <th>anio</th>\n",
       "    </tr>\n",
       "  </thead>\n",
       "  <tbody>\n",
       "    <tr>\n",
       "      <th>0</th>\n",
       "      <td>121</td>\n",
       "      <td>ARTE</td>\n",
       "      <td>2015</td>\n",
       "    </tr>\n",
       "    <tr>\n",
       "      <th>1</th>\n",
       "      <td>6</td>\n",
       "      <td>HISTORIA, GEOGRAFÍA Y ECONOMÍA</td>\n",
       "      <td>2015</td>\n",
       "    </tr>\n",
       "    <tr>\n",
       "      <th>2</th>\n",
       "      <td>72</td>\n",
       "      <td>COMPUTACIÓN</td>\n",
       "      <td>2015</td>\n",
       "    </tr>\n",
       "  </tbody>\n",
       "</table>\n",
       "</div>"
      ],
      "text/plain": [
       "   CantiAprobado14                          Cursos  anio\n",
       "0              121                            ARTE  2015\n",
       "1                6  HISTORIA, GEOGRAFÍA Y ECONOMÍA  2015\n",
       "2               72                     COMPUTACIÓN  2015"
      ]
     },
     "execution_count": 60,
     "metadata": {},
     "output_type": "execute_result"
    }
   ],
   "source": [
    "# CANTIDAD DE ALUMNOS APROBADOS CON PROMEDIO ALTO POR CURSO Y AÑO DEL TODO EL COLEGIO\"\"\"\n",
    "c7=pd.read_sql(\"\"\"select count(r.idpers) as CantiAprobado14,a.area AS Cursos,r.anio  \n",
    "from detregistros d\n",
    "inner join registros r on r.idreg = d.idreg\n",
    "inner join areas a on a.idarea = r.idarea\n",
    "where ((d.nota1+d.nota2+d.nota3+d.nota4+d.nota5+d.nota6+d.nota7+d.nota8)/8) >=14 #and r.anio=2015#and a.area ='ARTE' and r.anio=2015\n",
    "#order by r.anio asc,a.area asc;\n",
    "group by a.area,r.anio  order by r.anio asc\"\"\", maxplanck)\n",
    "c7.head(3)"
   ]
  },
  {
   "cell_type": "code",
   "execution_count": 61,
   "metadata": {},
   "outputs": [
    {
     "data": {
      "text/html": [
       "<div>\n",
       "<style scoped>\n",
       "    .dataframe tbody tr th:only-of-type {\n",
       "        vertical-align: middle;\n",
       "    }\n",
       "\n",
       "    .dataframe tbody tr th {\n",
       "        vertical-align: top;\n",
       "    }\n",
       "\n",
       "    .dataframe thead th {\n",
       "        text-align: right;\n",
       "    }\n",
       "</style>\n",
       "<table border=\"1\" class=\"dataframe\">\n",
       "  <thead>\n",
       "    <tr style=\"text-align: right;\">\n",
       "      <th></th>\n",
       "      <th>CantiAprobado11</th>\n",
       "      <th>grado</th>\n",
       "      <th>nivel</th>\n",
       "      <th>anio</th>\n",
       "    </tr>\n",
       "  </thead>\n",
       "  <tbody>\n",
       "    <tr>\n",
       "      <th>0</th>\n",
       "      <td>85</td>\n",
       "      <td>1</td>\n",
       "      <td>PRIMARIA</td>\n",
       "      <td>2015</td>\n",
       "    </tr>\n",
       "    <tr>\n",
       "      <th>1</th>\n",
       "      <td>67</td>\n",
       "      <td>1</td>\n",
       "      <td>PRIMARIA</td>\n",
       "      <td>2015</td>\n",
       "    </tr>\n",
       "    <tr>\n",
       "      <th>2</th>\n",
       "      <td>24</td>\n",
       "      <td>1</td>\n",
       "      <td>PRIMARIA</td>\n",
       "      <td>2016</td>\n",
       "    </tr>\n",
       "  </tbody>\n",
       "</table>\n",
       "</div>"
      ],
      "text/plain": [
       "   CantiAprobado11  grado     nivel  anio\n",
       "0               85      1  PRIMARIA  2015\n",
       "1               67      1  PRIMARIA  2015\n",
       "2               24      1  PRIMARIA  2016"
      ]
     },
     "execution_count": 61,
     "metadata": {},
     "output_type": "execute_result"
    }
   ],
   "source": [
    "# CANTIDAD DE ALUMNOS APROBADOS EN NIVEL DE PRIMARIA POR AÑO\n",
    "c8=pd.read_sql(\"\"\"select distinct count(r.idpers) as CantiAprobado11,r.grado,r.nivel , r.anio\n",
    "from detregistros d\n",
    "inner join registros r on r.idreg = d.idreg\n",
    "inner join areas a on a.idarea = r.idarea\n",
    "where ((d.nota1+d.nota2+d.nota3+d.nota4+d.nota5+d.nota6+d.nota7+d.nota8)/8) >=11 #and r.anio=2015#and a.area ='ARTE' and r.anio=2015\n",
    "and r.nivel='PRIMARIA'\n",
    "group by a.area,r.anio, r.nivel order by r.grado, r.anio asc\"\"\", maxplanck)\n",
    "c8.head(3)"
   ]
  },
  {
   "cell_type": "code",
   "execution_count": 62,
   "metadata": {},
   "outputs": [
    {
     "data": {
      "text/html": [
       "<div>\n",
       "<style scoped>\n",
       "    .dataframe tbody tr th:only-of-type {\n",
       "        vertical-align: middle;\n",
       "    }\n",
       "\n",
       "    .dataframe tbody tr th {\n",
       "        vertical-align: top;\n",
       "    }\n",
       "\n",
       "    .dataframe thead th {\n",
       "        text-align: right;\n",
       "    }\n",
       "</style>\n",
       "<table border=\"1\" class=\"dataframe\">\n",
       "  <thead>\n",
       "    <tr style=\"text-align: right;\">\n",
       "      <th></th>\n",
       "      <th>CantiAprobado11</th>\n",
       "      <th>grado</th>\n",
       "      <th>nivel</th>\n",
       "      <th>anio</th>\n",
       "    </tr>\n",
       "  </thead>\n",
       "  <tbody>\n",
       "    <tr>\n",
       "      <th>0</th>\n",
       "      <td>68</td>\n",
       "      <td>1</td>\n",
       "      <td>SECUNDARIA</td>\n",
       "      <td>2015</td>\n",
       "    </tr>\n",
       "    <tr>\n",
       "      <th>1</th>\n",
       "      <td>108</td>\n",
       "      <td>1</td>\n",
       "      <td>SECUNDARIA</td>\n",
       "      <td>2015</td>\n",
       "    </tr>\n",
       "    <tr>\n",
       "      <th>2</th>\n",
       "      <td>69</td>\n",
       "      <td>1</td>\n",
       "      <td>SECUNDARIA</td>\n",
       "      <td>2015</td>\n",
       "    </tr>\n",
       "  </tbody>\n",
       "</table>\n",
       "</div>"
      ],
      "text/plain": [
       "   CantiAprobado11  grado       nivel  anio\n",
       "0               68      1  SECUNDARIA  2015\n",
       "1              108      1  SECUNDARIA  2015\n",
       "2               69      1  SECUNDARIA  2015"
      ]
     },
     "execution_count": 62,
     "metadata": {},
     "output_type": "execute_result"
    }
   ],
   "source": [
    "#CANTIDAD DE ALUMNOS APROBADOS EN NIVEL DE SECUNDARIA POR AÑO\n",
    "c9=pd.read_sql(\"\"\"select distinct count(r.idpers) as CantiAprobado11,r.grado,r.nivel , r.anio\n",
    "    from detregistros d\n",
    "    inner join registros r on r.idreg = d.idreg\n",
    "    inner join areas a on a.idarea = r.idarea\n",
    "    where ((d.nota1+d.nota2+d.nota3+d.nota4+d.nota5+d.nota6+d.nota7+d.nota8)/8) >=11 #and r.anio=2015#and a.area ='ARTE' and r.anio=2015\n",
    "    and r.nivel='SECUNDARIA'\n",
    "    group by a.area,r.anio, r.nivel order by r.grado, r.anio asc\"\"\", maxplanck)\n",
    "c9.head(3)"
   ]
  },
  {
   "cell_type": "code",
   "execution_count": 63,
   "metadata": {},
   "outputs": [
    {
     "data": {
      "text/html": [
       "<div>\n",
       "<style scoped>\n",
       "    .dataframe tbody tr th:only-of-type {\n",
       "        vertical-align: middle;\n",
       "    }\n",
       "\n",
       "    .dataframe tbody tr th {\n",
       "        vertical-align: top;\n",
       "    }\n",
       "\n",
       "    .dataframe thead th {\n",
       "        text-align: right;\n",
       "    }\n",
       "</style>\n",
       "<table border=\"1\" class=\"dataframe\">\n",
       "  <thead>\n",
       "    <tr style=\"text-align: right;\">\n",
       "      <th></th>\n",
       "      <th>CantiAprobado14</th>\n",
       "      <th>grado</th>\n",
       "      <th>nivel</th>\n",
       "      <th>anio</th>\n",
       "    </tr>\n",
       "  </thead>\n",
       "  <tbody>\n",
       "    <tr>\n",
       "      <th>0</th>\n",
       "      <td>15</td>\n",
       "      <td>1</td>\n",
       "      <td>PRIMARIA</td>\n",
       "      <td>2015</td>\n",
       "    </tr>\n",
       "    <tr>\n",
       "      <th>1</th>\n",
       "      <td>34</td>\n",
       "      <td>1</td>\n",
       "      <td>SECUNDARIA</td>\n",
       "      <td>2015</td>\n",
       "    </tr>\n",
       "    <tr>\n",
       "      <th>2</th>\n",
       "      <td>17</td>\n",
       "      <td>1</td>\n",
       "      <td>SECUNDARIA</td>\n",
       "      <td>2017</td>\n",
       "    </tr>\n",
       "  </tbody>\n",
       "</table>\n",
       "</div>"
      ],
      "text/plain": [
       "   CantiAprobado14  grado       nivel  anio\n",
       "0               15      1    PRIMARIA  2015\n",
       "1               34      1  SECUNDARIA  2015\n",
       "2               17      1  SECUNDARIA  2017"
      ]
     },
     "execution_count": 63,
     "metadata": {},
     "output_type": "execute_result"
    }
   ],
   "source": [
    "#CANTIDAD DE ALUMNOS APROBADOS CON PROMEDIO ALTO EN EL CURSO DE MATEMATICA POR GRADO, NIVEL Y AÑO\n",
    "c10=pd.read_sql(\"\"\"select distinct count(r.idpers) as CantiAprobado14,r.grado,r.nivel , r.anio\n",
    "    from detregistros d\n",
    "    inner join registros r on r.idreg = d.idreg\n",
    "    inner join areas a on a.idarea = r.idarea\n",
    "    where ((d.nota1+d.nota2+d.nota3+d.nota4+d.nota5+d.nota6+d.nota7+d.nota8)/8) >=14 #and r.anio=2015#and a.area ='ARTE' and r.anio=2015\n",
    "    and a.area='MATEMATICA'\n",
    "    group by a.area,r.anio, r.nivel order by r.grado, r.anio asc\"\"\", maxplanck)\n",
    "c10.head(3)"
   ]
  },
  {
   "cell_type": "code",
   "execution_count": 64,
   "metadata": {},
   "outputs": [
    {
     "data": {
      "text/html": [
       "<div>\n",
       "<style scoped>\n",
       "    .dataframe tbody tr th:only-of-type {\n",
       "        vertical-align: middle;\n",
       "    }\n",
       "\n",
       "    .dataframe tbody tr th {\n",
       "        vertical-align: top;\n",
       "    }\n",
       "\n",
       "    .dataframe thead th {\n",
       "        text-align: right;\n",
       "    }\n",
       "</style>\n",
       "<table border=\"1\" class=\"dataframe\">\n",
       "  <thead>\n",
       "    <tr style=\"text-align: right;\">\n",
       "      <th></th>\n",
       "      <th>CantiAprobado14</th>\n",
       "      <th>grado</th>\n",
       "      <th>nivel</th>\n",
       "      <th>anio</th>\n",
       "    </tr>\n",
       "  </thead>\n",
       "  <tbody>\n",
       "    <tr>\n",
       "      <th>0</th>\n",
       "      <td>9</td>\n",
       "      <td>1</td>\n",
       "      <td>PRIMARIA</td>\n",
       "      <td>2015</td>\n",
       "    </tr>\n",
       "    <tr>\n",
       "      <th>1</th>\n",
       "      <td>43</td>\n",
       "      <td>1</td>\n",
       "      <td>SECUNDARIA</td>\n",
       "      <td>2015</td>\n",
       "    </tr>\n",
       "    <tr>\n",
       "      <th>2</th>\n",
       "      <td>153</td>\n",
       "      <td>1</td>\n",
       "      <td>SECUNDARIA</td>\n",
       "      <td>2016</td>\n",
       "    </tr>\n",
       "  </tbody>\n",
       "</table>\n",
       "</div>"
      ],
      "text/plain": [
       "   CantiAprobado14  grado       nivel  anio\n",
       "0                9      1    PRIMARIA  2015\n",
       "1               43      1  SECUNDARIA  2015\n",
       "2              153      1  SECUNDARIA  2016"
      ]
     },
     "execution_count": 64,
     "metadata": {},
     "output_type": "execute_result"
    }
   ],
   "source": [
    "#CANTIDAD DE ALUMNOS APROBADOS CON PROMEDIO ALTO EN EL CURSO DE COMUNICACION POR GRADO, NIVEL Y AÑO\n",
    "c11=pd.read_sql(\"\"\"select count(r.idpers) as CantiAprobado14,r.grado,r.nivel , r.anio\n",
    "    from detregistros d\n",
    "    inner join registros r on r.idreg = d.idreg\n",
    "    inner join areas a on a.idarea = r.idarea\n",
    "    where ((d.nota1+d.nota2+d.nota3+d.nota4+d.nota5+d.nota6+d.nota7+d.nota8)/8) >=14 #and r.anio=2015#and a.area ='ARTE' and r.anio=2015\n",
    "    and a.area='COMUNICACION'\n",
    "    group by a.area,r.anio, r.nivel order by r.grado, r.anio asc\"\"\", maxplanck)\n",
    "c11.head(3)"
   ]
  },
  {
   "cell_type": "code",
   "execution_count": 65,
   "metadata": {},
   "outputs": [
    {
     "data": {
      "text/html": [
       "<div>\n",
       "<style scoped>\n",
       "    .dataframe tbody tr th:only-of-type {\n",
       "        vertical-align: middle;\n",
       "    }\n",
       "\n",
       "    .dataframe tbody tr th {\n",
       "        vertical-align: top;\n",
       "    }\n",
       "\n",
       "    .dataframe thead th {\n",
       "        text-align: right;\n",
       "    }\n",
       "</style>\n",
       "<table border=\"1\" class=\"dataframe\">\n",
       "  <thead>\n",
       "    <tr style=\"text-align: right;\">\n",
       "      <th></th>\n",
       "      <th>count(p.idpers)</th>\n",
       "      <th>grado</th>\n",
       "      <th>nivel</th>\n",
       "    </tr>\n",
       "  </thead>\n",
       "  <tbody>\n",
       "    <tr>\n",
       "      <th>0</th>\n",
       "      <td>808</td>\n",
       "      <td>1</td>\n",
       "      <td>PRIMARIA</td>\n",
       "    </tr>\n",
       "    <tr>\n",
       "      <th>1</th>\n",
       "      <td>800</td>\n",
       "      <td>2</td>\n",
       "      <td>PRIMARIA</td>\n",
       "    </tr>\n",
       "    <tr>\n",
       "      <th>2</th>\n",
       "      <td>800</td>\n",
       "      <td>3</td>\n",
       "      <td>PRIMARIA</td>\n",
       "    </tr>\n",
       "  </tbody>\n",
       "</table>\n",
       "</div>"
      ],
      "text/plain": [
       "   count(p.idpers)  grado     nivel\n",
       "0              808      1  PRIMARIA\n",
       "1              800      2  PRIMARIA\n",
       "2              800      3  PRIMARIA"
      ]
     },
     "execution_count": 65,
     "metadata": {},
     "output_type": "execute_result"
    }
   ],
   "source": [
    "#CANTIDAD DE ALUMNOS POR GRADO, NIVEL Y AÑO\n",
    "c12=pd.read_sql(\"\"\"select distinct count(p.idpers), r.grado, r.nivel\n",
    "    from personas p\n",
    "    inner join registros r\n",
    "    on r.idpers=p.idpers\n",
    "    group by r.nivel, r.grado\"\"\", maxplanck)\n",
    "c12.head(3)"
   ]
  },
  {
   "cell_type": "code",
   "execution_count": 66,
   "metadata": {},
   "outputs": [
    {
     "data": {
      "text/html": [
       "<div>\n",
       "<style scoped>\n",
       "    .dataframe tbody tr th:only-of-type {\n",
       "        vertical-align: middle;\n",
       "    }\n",
       "\n",
       "    .dataframe tbody tr th {\n",
       "        vertical-align: top;\n",
       "    }\n",
       "\n",
       "    .dataframe thead th {\n",
       "        text-align: right;\n",
       "    }\n",
       "</style>\n",
       "<table border=\"1\" class=\"dataframe\">\n",
       "  <thead>\n",
       "    <tr style=\"text-align: right;\">\n",
       "      <th></th>\n",
       "      <th>CantAprobados11</th>\n",
       "      <th>Cursos</th>\n",
       "      <th>grado</th>\n",
       "      <th>nivel</th>\n",
       "      <th>Año</th>\n",
       "    </tr>\n",
       "  </thead>\n",
       "  <tbody>\n",
       "    <tr>\n",
       "      <th>0</th>\n",
       "      <td>4</td>\n",
       "      <td>ARTE</td>\n",
       "      <td>1</td>\n",
       "      <td>PRIMARIA</td>\n",
       "      <td>2018</td>\n",
       "    </tr>\n",
       "    <tr>\n",
       "      <th>1</th>\n",
       "      <td>93</td>\n",
       "      <td>COMUNICACIÓN</td>\n",
       "      <td>1</td>\n",
       "      <td>SECUNDARIA</td>\n",
       "      <td>2018</td>\n",
       "    </tr>\n",
       "    <tr>\n",
       "      <th>2</th>\n",
       "      <td>3</td>\n",
       "      <td>MATEMÁTICA</td>\n",
       "      <td>1</td>\n",
       "      <td>SECUNDARIA</td>\n",
       "      <td>2018</td>\n",
       "    </tr>\n",
       "  </tbody>\n",
       "</table>\n",
       "</div>"
      ],
      "text/plain": [
       "   CantAprobados11        Cursos  grado       nivel   Año\n",
       "0                4          ARTE      1    PRIMARIA  2018\n",
       "1               93  COMUNICACIÓN      1  SECUNDARIA  2018\n",
       "2                3    MATEMÁTICA      1  SECUNDARIA  2018"
      ]
     },
     "execution_count": 66,
     "metadata": {},
     "output_type": "execute_result"
    }
   ],
   "source": [
    "#CANTIDAD DE ALUMNOS APROBADOS POR CURSO EN EL AÑO 2018\n",
    "c13=pd.read_sql(\"\"\"select count(r.idpers) as CantAprobados11,a.area AS Cursos, r.grado, r.nivel,r.anio as Año from detregistros d\n",
    "    inner join registros r on r.idreg = d.idreg\n",
    "    inner join areas a on a.idarea = r.idarea\n",
    "    where ((d.nota1+d.nota2+d.nota3+d.nota4+d.nota5+d.nota6+d.nota7+d.nota8)/8) >=11 #and r.anio=2015#and a.area ='ARTE' and r.anio=2015\n",
    "    and r.anio=2018\n",
    "    group by a.area, r.nivel, r.grado  \n",
    "    order by r.grado asc\"\"\", maxplanck)\n",
    "c13.head(3)"
   ]
  },
  {
   "cell_type": "code",
   "execution_count": 67,
   "metadata": {},
   "outputs": [
    {
     "data": {
      "text/html": [
       "<div>\n",
       "<style scoped>\n",
       "    .dataframe tbody tr th:only-of-type {\n",
       "        vertical-align: middle;\n",
       "    }\n",
       "\n",
       "    .dataframe tbody tr th {\n",
       "        vertical-align: top;\n",
       "    }\n",
       "\n",
       "    .dataframe thead th {\n",
       "        text-align: right;\n",
       "    }\n",
       "</style>\n",
       "<table border=\"1\" class=\"dataframe\">\n",
       "  <thead>\n",
       "    <tr style=\"text-align: right;\">\n",
       "      <th></th>\n",
       "      <th>CantidadAlumnos</th>\n",
       "      <th>grado</th>\n",
       "      <th>nivel</th>\n",
       "      <th>Año</th>\n",
       "    </tr>\n",
       "  </thead>\n",
       "  <tbody>\n",
       "    <tr>\n",
       "      <th>0</th>\n",
       "      <td>96</td>\n",
       "      <td>1</td>\n",
       "      <td>PRIMARIA</td>\n",
       "      <td>2013</td>\n",
       "    </tr>\n",
       "    <tr>\n",
       "      <th>1</th>\n",
       "      <td>96</td>\n",
       "      <td>2</td>\n",
       "      <td>PRIMARIA</td>\n",
       "      <td>2013</td>\n",
       "    </tr>\n",
       "    <tr>\n",
       "      <th>2</th>\n",
       "      <td>96</td>\n",
       "      <td>3</td>\n",
       "      <td>PRIMARIA</td>\n",
       "      <td>2013</td>\n",
       "    </tr>\n",
       "  </tbody>\n",
       "</table>\n",
       "</div>"
      ],
      "text/plain": [
       "   CantidadAlumnos  grado     nivel   Año\n",
       "0               96      1  PRIMARIA  2013\n",
       "1               96      2  PRIMARIA  2013\n",
       "2               96      3  PRIMARIA  2013"
      ]
     },
     "execution_count": 67,
     "metadata": {},
     "output_type": "execute_result"
    }
   ],
   "source": [
    "#CANTIDAD TOTAL DE ALUMNOS POR NIVEL SECUNDARIA Y PRIMARIA\n",
    "c14=pd.read_sql(\"\"\"select distinct count(r.idpers) as CantidadAlumnos, r.grado,r.nivel ,r.anio as Año\n",
    "    from registros r\n",
    "    inner join personas p\n",
    "    on p.idpers=r.idpers\n",
    "    where nivel='PRIMARIA' \n",
    "\tgroup by r.anio, r.grado\n",
    "    UNION\n",
    "\tselect distinct count(r.idpers) as Cantidad, r.grado,r.nivel , r.anio as Año\n",
    "    from registros r\n",
    "    inner join personas p\n",
    "    on p.idpers=r.idpers\n",
    "    where nivel='SECUNDARIA' \n",
    "    group by r.anio, r.grado\"\"\", maxplanck)\n",
    "c14.head(3)"
   ]
  },
  {
   "cell_type": "code",
   "execution_count": 68,
   "metadata": {},
   "outputs": [
    {
     "data": {
      "text/html": [
       "<div>\n",
       "<style scoped>\n",
       "    .dataframe tbody tr th:only-of-type {\n",
       "        vertical-align: middle;\n",
       "    }\n",
       "\n",
       "    .dataframe tbody tr th {\n",
       "        vertical-align: top;\n",
       "    }\n",
       "\n",
       "    .dataframe thead th {\n",
       "        text-align: right;\n",
       "    }\n",
       "</style>\n",
       "<table border=\"1\" class=\"dataframe\">\n",
       "  <thead>\n",
       "    <tr style=\"text-align: right;\">\n",
       "      <th></th>\n",
       "      <th>area</th>\n",
       "      <th>nivel</th>\n",
       "    </tr>\n",
       "  </thead>\n",
       "  <tbody>\n",
       "    <tr>\n",
       "      <th>0</th>\n",
       "      <td>ALEMÁN</td>\n",
       "      <td>PRIMARIA</td>\n",
       "    </tr>\n",
       "    <tr>\n",
       "      <th>1</th>\n",
       "      <td>ARTE</td>\n",
       "      <td>PRIMARIA</td>\n",
       "    </tr>\n",
       "    <tr>\n",
       "      <th>2</th>\n",
       "      <td>CIENCIA Y AMBIENTE</td>\n",
       "      <td>PRIMARIA</td>\n",
       "    </tr>\n",
       "  </tbody>\n",
       "</table>\n",
       "</div>"
      ],
      "text/plain": [
       "                 area     nivel\n",
       "0              ALEMÁN  PRIMARIA\n",
       "1                ARTE  PRIMARIA\n",
       "2  CIENCIA Y AMBIENTE  PRIMARIA"
      ]
     },
     "execution_count": 68,
     "metadata": {},
     "output_type": "execute_result"
    }
   ],
   "source": [
    "#CUANTOS CURSOS LLEVAN POR NIVEL\n",
    "c15=pd.read_sql(\"\"\"select a.area, r.nivel\n",
    "    from areas a \n",
    "    inner join registros r \n",
    "    on a.idarea=r.idarea\n",
    "    where r.nivel='PRIMARIA' \n",
    "    group by r.nivel, a.area\n",
    "    union\n",
    "\tselect a.area, r.nivel\n",
    "    from areas a \n",
    "    inner join registros r \n",
    "    on a.idarea=r.idarea\n",
    "    where r.nivel='SECUNDARIA' \n",
    "    group by r.nivel, a.area\"\"\", maxplanck)\n",
    "c15.head(3)"
   ]
  },
  {
   "cell_type": "code",
   "execution_count": 69,
   "metadata": {},
   "outputs": [
    {
     "data": {
      "text/html": [
       "<div>\n",
       "<style scoped>\n",
       "    .dataframe tbody tr th:only-of-type {\n",
       "        vertical-align: middle;\n",
       "    }\n",
       "\n",
       "    .dataframe tbody tr th {\n",
       "        vertical-align: top;\n",
       "    }\n",
       "\n",
       "    .dataframe thead th {\n",
       "        text-align: right;\n",
       "    }\n",
       "</style>\n",
       "<table border=\"1\" class=\"dataframe\">\n",
       "  <thead>\n",
       "    <tr style=\"text-align: right;\">\n",
       "      <th></th>\n",
       "      <th>CantiDesaproba11</th>\n",
       "      <th>nivel</th>\n",
       "      <th>anio</th>\n",
       "    </tr>\n",
       "  </thead>\n",
       "  <tbody>\n",
       "    <tr>\n",
       "      <th>0</th>\n",
       "      <td>3516</td>\n",
       "      <td>PRIMARIA</td>\n",
       "      <td>2016</td>\n",
       "    </tr>\n",
       "    <tr>\n",
       "      <th>1</th>\n",
       "      <td>1449</td>\n",
       "      <td>PRIMARIA</td>\n",
       "      <td>2017</td>\n",
       "    </tr>\n",
       "    <tr>\n",
       "      <th>2</th>\n",
       "      <td>6404</td>\n",
       "      <td>SECUNDARIA</td>\n",
       "      <td>2015</td>\n",
       "    </tr>\n",
       "  </tbody>\n",
       "</table>\n",
       "</div>"
      ],
      "text/plain": [
       "   CantiDesaproba11       nivel  anio\n",
       "0              3516    PRIMARIA  2016\n",
       "1              1449    PRIMARIA  2017\n",
       "2              6404  SECUNDARIA  2015"
      ]
     },
     "execution_count": 69,
     "metadata": {},
     "output_type": "execute_result"
    }
   ],
   "source": [
    "#CANTIDAD DE ALUMNOS DESAPROBADOS POR  NIVEL Y AÑO\n",
    "c16=pd.read_sql(\"\"\"SELECT count(r.idpers) as CantiDesaproba11, r.nivel, r.anio\n",
    "    from detregistros d\n",
    "    inner join registros r on r.idreg = d.idreg\n",
    "    inner join personas p on p.idpers= r.idpers\n",
    "    where ((d.nota1+d.nota2+d.nota3+d.nota4+d.nota5+d.nota6+d.nota7+d.nota8)/8) <11 #and r.anio=2015#and a.area ='ARTE' and r.anio=2015\n",
    "\tgroup by r.nivel, r.anio order by r.grado asc, r.nivel asc, r.anio asc; #group by r.grado\"\"\", maxplanck)\n",
    "c16.head(3)"
   ]
  },
  {
   "cell_type": "code",
   "execution_count": 70,
   "metadata": {},
   "outputs": [
    {
     "data": {
      "text/html": [
       "<div>\n",
       "<style scoped>\n",
       "    .dataframe tbody tr th:only-of-type {\n",
       "        vertical-align: middle;\n",
       "    }\n",
       "\n",
       "    .dataframe tbody tr th {\n",
       "        vertical-align: top;\n",
       "    }\n",
       "\n",
       "    .dataframe thead th {\n",
       "        text-align: right;\n",
       "    }\n",
       "</style>\n",
       "<table border=\"1\" class=\"dataframe\">\n",
       "  <thead>\n",
       "    <tr style=\"text-align: right;\">\n",
       "      <th></th>\n",
       "      <th>CantDesaprobados14</th>\n",
       "      <th>grado</th>\n",
       "      <th>nivel</th>\n",
       "      <th>Año</th>\n",
       "    </tr>\n",
       "  </thead>\n",
       "  <tbody>\n",
       "    <tr>\n",
       "      <th>0</th>\n",
       "      <td>192</td>\n",
       "      <td>1</td>\n",
       "      <td>PRIMARIA</td>\n",
       "      <td>2015</td>\n",
       "    </tr>\n",
       "    <tr>\n",
       "      <th>1</th>\n",
       "      <td>982</td>\n",
       "      <td>1</td>\n",
       "      <td>SECUNDARIA</td>\n",
       "      <td>2015</td>\n",
       "    </tr>\n",
       "    <tr>\n",
       "      <th>2</th>\n",
       "      <td>320</td>\n",
       "      <td>2</td>\n",
       "      <td>PRIMARIA</td>\n",
       "      <td>2015</td>\n",
       "    </tr>\n",
       "  </tbody>\n",
       "</table>\n",
       "</div>"
      ],
      "text/plain": [
       "   CantDesaprobados14  grado       nivel   Año\n",
       "0                 192      1    PRIMARIA  2015\n",
       "1                 982      1  SECUNDARIA  2015\n",
       "2                 320      2    PRIMARIA  2015"
      ]
     },
     "execution_count": 70,
     "metadata": {},
     "output_type": "execute_result"
    }
   ],
   "source": [
    "#CANTIDAD DE ALUMNOS DESAPROBADOS CON PROMEDIO BAJO POR GRADO. NIVEL Y AÑO\n",
    "c17=pd.read_sql(\"\"\"select count(r.idpers) as CantDesaprobados14,r.grado, r.nivel, r.anio as Año from detregistros d\n",
    "    inner join registros r on r.idreg = d.idreg\n",
    "    #inner join areas a on a.idarea = r.idarea\n",
    "    where ((d.nota1+d.nota2+d.nota3+d.nota4+d.nota5+d.nota6+d.nota7+d.nota8)/8) <11 #and r.anio=2015#and a.area ='ARTE' and r.anio=2015\n",
    "    #and r.nivel='PRIMARIA' / r.nivel='SECUNDARIA'\n",
    "    group by r.anio, r.grado, r.nivel  order by r.anio asc\"\"\", maxplanck)\n",
    "c17.head(3)"
   ]
  },
  {
   "cell_type": "code",
   "execution_count": 71,
   "metadata": {},
   "outputs": [
    {
     "data": {
      "text/html": [
       "<div>\n",
       "<style scoped>\n",
       "    .dataframe tbody tr th:only-of-type {\n",
       "        vertical-align: middle;\n",
       "    }\n",
       "\n",
       "    .dataframe tbody tr th {\n",
       "        vertical-align: top;\n",
       "    }\n",
       "\n",
       "    .dataframe thead th {\n",
       "        text-align: right;\n",
       "    }\n",
       "</style>\n",
       "<table border=\"1\" class=\"dataframe\">\n",
       "  <thead>\n",
       "    <tr style=\"text-align: right;\">\n",
       "      <th></th>\n",
       "      <th>CantDesaprobados14</th>\n",
       "      <th>bimestre</th>\n",
       "      <th>grado</th>\n",
       "      <th>seccion</th>\n",
       "      <th>nivel</th>\n",
       "    </tr>\n",
       "  </thead>\n",
       "  <tbody>\n",
       "    <tr>\n",
       "      <th>0</th>\n",
       "      <td>26</td>\n",
       "      <td>1</td>\n",
       "      <td>1</td>\n",
       "      <td>A</td>\n",
       "      <td>PRIMARIA</td>\n",
       "    </tr>\n",
       "    <tr>\n",
       "      <th>1</th>\n",
       "      <td>55</td>\n",
       "      <td>1</td>\n",
       "      <td>1</td>\n",
       "      <td>U</td>\n",
       "      <td>PRIMARIA</td>\n",
       "    </tr>\n",
       "    <tr>\n",
       "      <th>2</th>\n",
       "      <td>153</td>\n",
       "      <td>1</td>\n",
       "      <td>1</td>\n",
       "      <td>U</td>\n",
       "      <td>PRIMARIA</td>\n",
       "    </tr>\n",
       "  </tbody>\n",
       "</table>\n",
       "</div>"
      ],
      "text/plain": [
       "   CantDesaprobados14  bimestre  grado seccion     nivel\n",
       "0                  26         1      1       A  PRIMARIA\n",
       "1                  55         1      1       U  PRIMARIA\n",
       "2                 153         1      1       U  PRIMARIA"
      ]
     },
     "execution_count": 71,
     "metadata": {},
     "output_type": "execute_result"
    }
   ],
   "source": [
    "#CANTIDAD DE ALUMNOS DESAPROBADOS CON PROMEDIO BAJO POR BIMESTRE, GRADO Y NIVEL\n",
    "c18=pd.read_sql(\"\"\"select distinct count(r.idpers) as CantDesaprobados14,r.bimestre, r.grado, r.seccion , r.nivel from detregistros d\n",
    "    inner join registros r on r.idreg = d.idreg\n",
    "    where ((d.nota1+d.nota2+d.nota3+d.nota4+d.nota5+d.nota6+d.nota7+d.nota8)/8) <11 #and r.anio=2015#and a.area ='ARTE' and r.anio=2015\n",
    "    group by r.bimestre, r.anio, r.grado, r.nivel  \n",
    "    order by r.bimestre asc, r.grado asc, r.nivel asc, r.anio desc\"\"\", maxplanck)\n",
    "c18.head(3)"
   ]
  },
  {
   "cell_type": "code",
   "execution_count": 72,
   "metadata": {},
   "outputs": [
    {
     "data": {
      "text/html": [
       "<div>\n",
       "<style scoped>\n",
       "    .dataframe tbody tr th:only-of-type {\n",
       "        vertical-align: middle;\n",
       "    }\n",
       "\n",
       "    .dataframe tbody tr th {\n",
       "        vertical-align: top;\n",
       "    }\n",
       "\n",
       "    .dataframe thead th {\n",
       "        text-align: right;\n",
       "    }\n",
       "</style>\n",
       "<table border=\"1\" class=\"dataframe\">\n",
       "  <thead>\n",
       "    <tr style=\"text-align: right;\">\n",
       "      <th></th>\n",
       "      <th>CantDesaprobados14</th>\n",
       "      <th>bimestre</th>\n",
       "      <th>grado</th>\n",
       "      <th>nivel</th>\n",
       "      <th>Año</th>\n",
       "    </tr>\n",
       "  </thead>\n",
       "  <tbody>\n",
       "    <tr>\n",
       "      <th>0</th>\n",
       "      <td>26</td>\n",
       "      <td>1</td>\n",
       "      <td>1</td>\n",
       "      <td>PRIMARIA</td>\n",
       "      <td>2018</td>\n",
       "    </tr>\n",
       "    <tr>\n",
       "      <th>1</th>\n",
       "      <td>55</td>\n",
       "      <td>1</td>\n",
       "      <td>1</td>\n",
       "      <td>PRIMARIA</td>\n",
       "      <td>2017</td>\n",
       "    </tr>\n",
       "    <tr>\n",
       "      <th>2</th>\n",
       "      <td>153</td>\n",
       "      <td>1</td>\n",
       "      <td>1</td>\n",
       "      <td>PRIMARIA</td>\n",
       "      <td>2016</td>\n",
       "    </tr>\n",
       "  </tbody>\n",
       "</table>\n",
       "</div>"
      ],
      "text/plain": [
       "   CantDesaprobados14  bimestre  grado     nivel   Año\n",
       "0                  26         1      1  PRIMARIA  2018\n",
       "1                  55         1      1  PRIMARIA  2017\n",
       "2                 153         1      1  PRIMARIA  2016"
      ]
     },
     "execution_count": 72,
     "metadata": {},
     "output_type": "execute_result"
    }
   ],
   "source": [
    "#CANTIDAD DE ALUMNOS DESAPROBADOS PROMEDIO BAJO POR BIMESTRE, GRADO, NIVEL Y AÑO\n",
    "c19=pd.read_sql(\"\"\"select count(r.idpers) as CantDesaprobados14,r.bimestre, r.grado, r.nivel, r.anio as Año from detregistros d\n",
    "    inner join registros r on r.idreg = d.idreg\n",
    "    where ((d.nota1+d.nota2+d.nota3+d.nota4+d.nota5+d.nota6+d.nota7+d.nota8)/8) <11 #and r.anio=2015#and a.area ='ARTE' and r.anio=2015\n",
    "    group by r.bimestre, r.anio, r.grado, r.nivel  \n",
    "    order by r.bimestre asc, r.grado asc, r.nivel asc, r.anio desc\"\"\", maxplanck)\n",
    "c19.head(3)"
   ]
  },
  {
   "cell_type": "code",
   "execution_count": 73,
   "metadata": {},
   "outputs": [
    {
     "data": {
      "text/html": [
       "<div>\n",
       "<style scoped>\n",
       "    .dataframe tbody tr th:only-of-type {\n",
       "        vertical-align: middle;\n",
       "    }\n",
       "\n",
       "    .dataframe tbody tr th {\n",
       "        vertical-align: top;\n",
       "    }\n",
       "\n",
       "    .dataframe thead th {\n",
       "        text-align: right;\n",
       "    }\n",
       "</style>\n",
       "<table border=\"1\" class=\"dataframe\">\n",
       "  <thead>\n",
       "    <tr style=\"text-align: right;\">\n",
       "      <th></th>\n",
       "      <th>CantDesaprobados11</th>\n",
       "      <th>Cursos</th>\n",
       "      <th>grado</th>\n",
       "      <th>nivel</th>\n",
       "      <th>Año</th>\n",
       "    </tr>\n",
       "  </thead>\n",
       "  <tbody>\n",
       "    <tr>\n",
       "      <th>0</th>\n",
       "      <td>174</td>\n",
       "      <td>COMPUTACIÓN</td>\n",
       "      <td>1</td>\n",
       "      <td>PRIMARIA</td>\n",
       "      <td>2015</td>\n",
       "    </tr>\n",
       "    <tr>\n",
       "      <th>1</th>\n",
       "      <td>433</td>\n",
       "      <td>EDUCACIÓN PARA EL TRABAJO</td>\n",
       "      <td>1</td>\n",
       "      <td>SECUNDARIA</td>\n",
       "      <td>2015</td>\n",
       "    </tr>\n",
       "    <tr>\n",
       "      <th>2</th>\n",
       "      <td>421</td>\n",
       "      <td>FORMACIÓN. CIUDADANA Y CIVICA</td>\n",
       "      <td>1</td>\n",
       "      <td>SECUNDARIA</td>\n",
       "      <td>2015</td>\n",
       "    </tr>\n",
       "  </tbody>\n",
       "</table>\n",
       "</div>"
      ],
      "text/plain": [
       "   CantDesaprobados11                         Cursos  grado       nivel   Año\n",
       "0                 174                    COMPUTACIÓN      1    PRIMARIA  2015\n",
       "1                 433      EDUCACIÓN PARA EL TRABAJO      1  SECUNDARIA  2015\n",
       "2                 421  FORMACIÓN. CIUDADANA Y CIVICA      1  SECUNDARIA  2015"
      ]
     },
     "execution_count": 73,
     "metadata": {},
     "output_type": "execute_result"
    }
   ],
   "source": [
    "#CANTIDAD DE ALUMNOS DESAPROBADOS POR CURSO, BIMESTRE , GRADO, NIVEL Y AÑO\n",
    "c20=pd.read_sql(\"\"\"select count(r.idpers) as CantDesaprobados11,a.area AS Cursos, r.grado, r.nivel,r.anio as Año from detregistros d\n",
    "    inner join registros r on r.idreg = d.idreg\n",
    "    inner join areas a on a.idarea = r.idarea\n",
    "    where ((d.nota1+d.nota2+d.nota3+d.nota4+d.nota5+d.nota6+d.nota7+d.nota8)/8) <11 #and r.anio=2015#and a.area ='ARTE' and r.anio=2015\n",
    "    group by a.area,r.anio  \n",
    "    order by r.anio asc, r.grado asc\"\"\", maxplanck)\n",
    "c20.head(3)"
   ]
  },
  {
   "cell_type": "code",
   "execution_count": 74,
   "metadata": {},
   "outputs": [
    {
     "data": {
      "text/html": [
       "<div>\n",
       "<style scoped>\n",
       "    .dataframe tbody tr th:only-of-type {\n",
       "        vertical-align: middle;\n",
       "    }\n",
       "\n",
       "    .dataframe tbody tr th {\n",
       "        vertical-align: top;\n",
       "    }\n",
       "\n",
       "    .dataframe thead th {\n",
       "        text-align: right;\n",
       "    }\n",
       "</style>\n",
       "<table border=\"1\" class=\"dataframe\">\n",
       "  <thead>\n",
       "    <tr style=\"text-align: right;\">\n",
       "      <th></th>\n",
       "      <th>CantDesaprobados11</th>\n",
       "      <th>Curso</th>\n",
       "      <th>Año</th>\n",
       "    </tr>\n",
       "  </thead>\n",
       "  <tbody>\n",
       "    <tr>\n",
       "      <th>0</th>\n",
       "      <td>617</td>\n",
       "      <td>ALEMÁN</td>\n",
       "      <td>2015</td>\n",
       "    </tr>\n",
       "    <tr>\n",
       "      <th>1</th>\n",
       "      <td>421</td>\n",
       "      <td>FORMACIÓN. CIUDADANA Y CIVICA</td>\n",
       "      <td>2015</td>\n",
       "    </tr>\n",
       "    <tr>\n",
       "      <th>2</th>\n",
       "      <td>312</td>\n",
       "      <td>ARTE</td>\n",
       "      <td>2015</td>\n",
       "    </tr>\n",
       "  </tbody>\n",
       "</table>\n",
       "</div>"
      ],
      "text/plain": [
       "   CantDesaprobados11                          Curso   Año\n",
       "0                 617                         ALEMÁN  2015\n",
       "1                 421  FORMACIÓN. CIUDADANA Y CIVICA  2015\n",
       "2                 312                           ARTE  2015"
      ]
     },
     "execution_count": 74,
     "metadata": {},
     "output_type": "execute_result"
    }
   ],
   "source": [
    "#CANTIDAD DE ALUMNOS DESAPROBADOS POR CURSO Y AÑO\n",
    "c21=pd.read_sql(\"\"\"select count(r.idpers) as CantDesaprobados11,a.area as Curso,r.anio as Año from detregistros d\n",
    "    inner join registros r on r.idreg = d.idreg\n",
    "    inner join areas a on a.idarea = r.idarea\n",
    "    where ((d.nota1+d.nota2+d.nota3+d.nota4+d.nota5+d.nota6+d.nota7+d.nota8)/8) <11 #and r.anio=2015#and a.area ='ARTE' and r.anio=2015\n",
    "    #order by r.anio asc,a.area asc;\n",
    "    group by a.area,r.anio  order by r.anio asc\"\"\", maxplanck)\n",
    "c21.head(3)"
   ]
  },
  {
   "cell_type": "code",
   "execution_count": 75,
   "metadata": {},
   "outputs": [
    {
     "data": {
      "text/html": [
       "<div>\n",
       "<style scoped>\n",
       "    .dataframe tbody tr th:only-of-type {\n",
       "        vertical-align: middle;\n",
       "    }\n",
       "\n",
       "    .dataframe tbody tr th {\n",
       "        vertical-align: top;\n",
       "    }\n",
       "\n",
       "    .dataframe thead th {\n",
       "        text-align: right;\n",
       "    }\n",
       "</style>\n",
       "<table border=\"1\" class=\"dataframe\">\n",
       "  <thead>\n",
       "    <tr style=\"text-align: right;\">\n",
       "      <th></th>\n",
       "      <th>CantDesaprobados14</th>\n",
       "      <th>Cursos</th>\n",
       "      <th>anio</th>\n",
       "    </tr>\n",
       "  </thead>\n",
       "  <tbody>\n",
       "    <tr>\n",
       "      <th>0</th>\n",
       "      <td>617</td>\n",
       "      <td>ALEMÁN</td>\n",
       "      <td>2015</td>\n",
       "    </tr>\n",
       "    <tr>\n",
       "      <th>1</th>\n",
       "      <td>421</td>\n",
       "      <td>FORMACIÓN. CIUDADANA Y CIVICA</td>\n",
       "      <td>2015</td>\n",
       "    </tr>\n",
       "    <tr>\n",
       "      <th>2</th>\n",
       "      <td>312</td>\n",
       "      <td>ARTE</td>\n",
       "      <td>2015</td>\n",
       "    </tr>\n",
       "  </tbody>\n",
       "</table>\n",
       "</div>"
      ],
      "text/plain": [
       "   CantDesaprobados14                         Cursos  anio\n",
       "0                 617                         ALEMÁN  2015\n",
       "1                 421  FORMACIÓN. CIUDADANA Y CIVICA  2015\n",
       "2                 312                           ARTE  2015"
      ]
     },
     "execution_count": 75,
     "metadata": {},
     "output_type": "execute_result"
    }
   ],
   "source": [
    "#CANTIDAD DE ALUMNOS DESAPROBADOS CON PROMEDIO BAJO POR CURSO Y AÑO DEL TODO EL COLEGIO\n",
    "c22=pd.read_sql(\"\"\"select count(r.idpers) as CantDesaprobados14,a.area AS Cursos,r.anio  \n",
    "    from detregistros d\n",
    "    inner join registros r on r.idreg = d.idreg\n",
    "    inner join areas a on a.idarea = r.idarea\n",
    "    where ((d.nota1+d.nota2+d.nota3+d.nota4+d.nota5+d.nota6+d.nota7+d.nota8)/8) <11 #and r.anio=2015#and a.area ='ARTE' and r.anio=2015\n",
    "    #order by r.anio asc,a.area asc;\n",
    "    group by a.area,r.anio  order by r.anio asc\"\"\", maxplanck)\n",
    "c22.head(3)"
   ]
  },
  {
   "cell_type": "code",
   "execution_count": 76,
   "metadata": {},
   "outputs": [
    {
     "data": {
      "text/html": [
       "<div>\n",
       "<style scoped>\n",
       "    .dataframe tbody tr th:only-of-type {\n",
       "        vertical-align: middle;\n",
       "    }\n",
       "\n",
       "    .dataframe tbody tr th {\n",
       "        vertical-align: top;\n",
       "    }\n",
       "\n",
       "    .dataframe thead th {\n",
       "        text-align: right;\n",
       "    }\n",
       "</style>\n",
       "<table border=\"1\" class=\"dataframe\">\n",
       "  <thead>\n",
       "    <tr style=\"text-align: right;\">\n",
       "      <th></th>\n",
       "      <th>CantDesaprobados11</th>\n",
       "      <th>grado</th>\n",
       "      <th>nivel</th>\n",
       "      <th>anio</th>\n",
       "    </tr>\n",
       "  </thead>\n",
       "  <tbody>\n",
       "    <tr>\n",
       "      <th>0</th>\n",
       "      <td>314</td>\n",
       "      <td>1</td>\n",
       "      <td>PRIMARIA</td>\n",
       "      <td>2015</td>\n",
       "    </tr>\n",
       "    <tr>\n",
       "      <th>1</th>\n",
       "      <td>108</td>\n",
       "      <td>1</td>\n",
       "      <td>PRIMARIA</td>\n",
       "      <td>2015</td>\n",
       "    </tr>\n",
       "    <tr>\n",
       "      <th>2</th>\n",
       "      <td>174</td>\n",
       "      <td>1</td>\n",
       "      <td>PRIMARIA</td>\n",
       "      <td>2015</td>\n",
       "    </tr>\n",
       "  </tbody>\n",
       "</table>\n",
       "</div>"
      ],
      "text/plain": [
       "   CantDesaprobados11  grado     nivel  anio\n",
       "0                 314      1  PRIMARIA  2015\n",
       "1                 108      1  PRIMARIA  2015\n",
       "2                 174      1  PRIMARIA  2015"
      ]
     },
     "execution_count": 76,
     "metadata": {},
     "output_type": "execute_result"
    }
   ],
   "source": [
    "#CANTIDAD DE ALUMNOS DESAPROBADOS EN NIVEL DE PRIMARIA POR AÑO\n",
    "c23=pd.read_sql(\"\"\"select distinct count(r.idpers) as CantDesaprobados11,r.grado,r.nivel , r.anio\n",
    "    from detregistros d\n",
    "    inner join registros r on r.idreg = d.idreg\n",
    "    inner join areas a on a.idarea = r.idarea\n",
    "    where ((d.nota1+d.nota2+d.nota3+d.nota4+d.nota5+d.nota6+d.nota7+d.nota8)/8) <11 #and r.anio=2015#and a.area ='ARTE' and r.anio=2015\n",
    "    and r.nivel='PRIMARIA'\n",
    "    group by a.area,r.anio, r.nivel order by r.grado, r.anio asc\"\"\", maxplanck)\n",
    "c23.head(3)"
   ]
  },
  {
   "cell_type": "code",
   "execution_count": 77,
   "metadata": {},
   "outputs": [
    {
     "data": {
      "text/html": [
       "<div>\n",
       "<style scoped>\n",
       "    .dataframe tbody tr th:only-of-type {\n",
       "        vertical-align: middle;\n",
       "    }\n",
       "\n",
       "    .dataframe tbody tr th {\n",
       "        vertical-align: top;\n",
       "    }\n",
       "\n",
       "    .dataframe thead th {\n",
       "        text-align: right;\n",
       "    }\n",
       "</style>\n",
       "<table border=\"1\" class=\"dataframe\">\n",
       "  <thead>\n",
       "    <tr style=\"text-align: right;\">\n",
       "      <th></th>\n",
       "      <th>CantDesaprobados11</th>\n",
       "      <th>grado</th>\n",
       "      <th>nivel</th>\n",
       "      <th>anio</th>\n",
       "    </tr>\n",
       "  </thead>\n",
       "  <tbody>\n",
       "    <tr>\n",
       "      <th>0</th>\n",
       "      <td>456</td>\n",
       "      <td>1</td>\n",
       "      <td>SECUNDARIA</td>\n",
       "      <td>2015</td>\n",
       "    </tr>\n",
       "    <tr>\n",
       "      <th>1</th>\n",
       "      <td>986</td>\n",
       "      <td>1</td>\n",
       "      <td>SECUNDARIA</td>\n",
       "      <td>2015</td>\n",
       "    </tr>\n",
       "    <tr>\n",
       "      <th>2</th>\n",
       "      <td>433</td>\n",
       "      <td>1</td>\n",
       "      <td>SECUNDARIA</td>\n",
       "      <td>2015</td>\n",
       "    </tr>\n",
       "  </tbody>\n",
       "</table>\n",
       "</div>"
      ],
      "text/plain": [
       "   CantDesaprobados11  grado       nivel  anio\n",
       "0                 456      1  SECUNDARIA  2015\n",
       "1                 986      1  SECUNDARIA  2015\n",
       "2                 433      1  SECUNDARIA  2015"
      ]
     },
     "execution_count": 77,
     "metadata": {},
     "output_type": "execute_result"
    }
   ],
   "source": [
    "#CANTIDAD DE ALUMNOS DESAPROBADOS EN NIVEL DE SECUNDARIA POR AÑO\n",
    "c24=pd.read_sql(\"\"\"select distinct count(r.idpers) as CantDesaprobados11,r.grado,r.nivel , r.anio\n",
    "    from detregistros d\n",
    "    inner join registros r on r.idreg = d.idreg\n",
    "    inner join areas a on a.idarea = r.idarea\n",
    "    where ((d.nota1+d.nota2+d.nota3+d.nota4+d.nota5+d.nota6+d.nota7+d.nota8)/8) <11 #and r.anio=2015#and a.area ='ARTE' and r.anio=2015\n",
    "    and r.nivel='SECUNDARIA'\n",
    "    group by a.area,r.anio, r.nivel order by r.grado, r.anio asc\"\"\", maxplanck)\n",
    "c24.head(3)"
   ]
  },
  {
   "cell_type": "code",
   "execution_count": 78,
   "metadata": {},
   "outputs": [
    {
     "data": {
      "text/html": [
       "<div>\n",
       "<style scoped>\n",
       "    .dataframe tbody tr th:only-of-type {\n",
       "        vertical-align: middle;\n",
       "    }\n",
       "\n",
       "    .dataframe tbody tr th {\n",
       "        vertical-align: top;\n",
       "    }\n",
       "\n",
       "    .dataframe thead th {\n",
       "        text-align: right;\n",
       "    }\n",
       "</style>\n",
       "<table border=\"1\" class=\"dataframe\">\n",
       "  <thead>\n",
       "    <tr style=\"text-align: right;\">\n",
       "      <th></th>\n",
       "      <th>CantDesaprobados14</th>\n",
       "      <th>grado</th>\n",
       "      <th>nivel</th>\n",
       "      <th>anio</th>\n",
       "    </tr>\n",
       "  </thead>\n",
       "  <tbody>\n",
       "    <tr>\n",
       "      <th>0</th>\n",
       "      <td>990</td>\n",
       "      <td>1</td>\n",
       "      <td>SECUNDARIA</td>\n",
       "      <td>2015</td>\n",
       "    </tr>\n",
       "    <tr>\n",
       "      <th>1</th>\n",
       "      <td>1895</td>\n",
       "      <td>1</td>\n",
       "      <td>SECUNDARIA</td>\n",
       "      <td>2016</td>\n",
       "    </tr>\n",
       "    <tr>\n",
       "      <th>2</th>\n",
       "      <td>391</td>\n",
       "      <td>1</td>\n",
       "      <td>PRIMARIA</td>\n",
       "      <td>2016</td>\n",
       "    </tr>\n",
       "  </tbody>\n",
       "</table>\n",
       "</div>"
      ],
      "text/plain": [
       "   CantDesaprobados14  grado       nivel  anio\n",
       "0                 990      1  SECUNDARIA  2015\n",
       "1                1895      1  SECUNDARIA  2016\n",
       "2                 391      1    PRIMARIA  2016"
      ]
     },
     "execution_count": 78,
     "metadata": {},
     "output_type": "execute_result"
    }
   ],
   "source": [
    "#CANTIDAD DE ALUMNOS DESAPROBADOS CON PROMEDIO BAJO EN EL CURSO DE MATEMATICA POR GRADO, NIVEL Y AÑO\n",
    "c25=pd.read_sql(\"\"\"select distinct count(r.idpers) as CantDesaprobados14,r.grado,r.nivel , r.anio\n",
    "    from detregistros d\n",
    "    inner join registros r on r.idreg = d.idreg\n",
    "    inner join areas a on a.idarea = r.idarea\n",
    "    where ((d.nota1+d.nota2+d.nota3+d.nota4+d.nota5+d.nota6+d.nota7+d.nota8)/8) <11 #and r.anio=2015#and a.area ='ARTE' and r.anio=2015\n",
    "    and a.area='MATEMATICA'\n",
    "    group by a.area,r.anio, r.nivel order by r.grado, r.anio asc\"\"\", maxplanck)\n",
    "c25.head(3)"
   ]
  },
  {
   "cell_type": "code",
   "execution_count": 79,
   "metadata": {},
   "outputs": [
    {
     "data": {
      "text/html": [
       "<div>\n",
       "<style scoped>\n",
       "    .dataframe tbody tr th:only-of-type {\n",
       "        vertical-align: middle;\n",
       "    }\n",
       "\n",
       "    .dataframe tbody tr th {\n",
       "        vertical-align: top;\n",
       "    }\n",
       "\n",
       "    .dataframe thead th {\n",
       "        text-align: right;\n",
       "    }\n",
       "</style>\n",
       "<table border=\"1\" class=\"dataframe\">\n",
       "  <thead>\n",
       "    <tr style=\"text-align: right;\">\n",
       "      <th></th>\n",
       "      <th>CantDesaprobados14</th>\n",
       "      <th>grado</th>\n",
       "      <th>nivel</th>\n",
       "      <th>anio</th>\n",
       "    </tr>\n",
       "  </thead>\n",
       "  <tbody>\n",
       "    <tr>\n",
       "      <th>0</th>\n",
       "      <td>908</td>\n",
       "      <td>1</td>\n",
       "      <td>SECUNDARIA</td>\n",
       "      <td>2015</td>\n",
       "    </tr>\n",
       "    <tr>\n",
       "      <th>1</th>\n",
       "      <td>1599</td>\n",
       "      <td>1</td>\n",
       "      <td>SECUNDARIA</td>\n",
       "      <td>2016</td>\n",
       "    </tr>\n",
       "    <tr>\n",
       "      <th>2</th>\n",
       "      <td>315</td>\n",
       "      <td>1</td>\n",
       "      <td>PRIMARIA</td>\n",
       "      <td>2016</td>\n",
       "    </tr>\n",
       "  </tbody>\n",
       "</table>\n",
       "</div>"
      ],
      "text/plain": [
       "   CantDesaprobados14  grado       nivel  anio\n",
       "0                 908      1  SECUNDARIA  2015\n",
       "1                1599      1  SECUNDARIA  2016\n",
       "2                 315      1    PRIMARIA  2016"
      ]
     },
     "execution_count": 79,
     "metadata": {},
     "output_type": "execute_result"
    }
   ],
   "source": [
    "#CANTIDAD DE ALUMNOS DESAPROBADOS CON PROMEDIO BAJO EN EL CURSO DE COMUNICACION POR GRADO, NIVEL Y AÑO\n",
    "c26=pd.read_sql(\"\"\"select count(r.idpers) as CantDesaprobados14,r.grado,r.nivel , r.anio\n",
    "    from detregistros d\n",
    "    inner join registros r on r.idreg = d.idreg\n",
    "    inner join areas a on a.idarea = r.idarea\n",
    "    where ((d.nota1+d.nota2+d.nota3+d.nota4+d.nota5+d.nota6+d.nota7+d.nota8)/8) <11 #and r.anio=2015#and a.area ='ARTE' and r.anio=2015\n",
    "    and a.area='COMUNICACION'\n",
    "    group by a.area,r.anio, r.nivel order by r.grado, r.anio asc\"\"\", maxplanck)\n",
    "c26.head(3)"
   ]
  },
  {
   "cell_type": "code",
   "execution_count": 80,
   "metadata": {},
   "outputs": [
    {
     "data": {
      "text/html": [
       "<div>\n",
       "<style scoped>\n",
       "    .dataframe tbody tr th:only-of-type {\n",
       "        vertical-align: middle;\n",
       "    }\n",
       "\n",
       "    .dataframe tbody tr th {\n",
       "        vertical-align: top;\n",
       "    }\n",
       "\n",
       "    .dataframe thead th {\n",
       "        text-align: right;\n",
       "    }\n",
       "</style>\n",
       "<table border=\"1\" class=\"dataframe\">\n",
       "  <thead>\n",
       "    <tr style=\"text-align: right;\">\n",
       "      <th></th>\n",
       "      <th>count(p.idpers)</th>\n",
       "      <th>grado</th>\n",
       "      <th>nivel</th>\n",
       "    </tr>\n",
       "  </thead>\n",
       "  <tbody>\n",
       "    <tr>\n",
       "      <th>0</th>\n",
       "      <td>808</td>\n",
       "      <td>1</td>\n",
       "      <td>PRIMARIA</td>\n",
       "    </tr>\n",
       "    <tr>\n",
       "      <th>1</th>\n",
       "      <td>800</td>\n",
       "      <td>2</td>\n",
       "      <td>PRIMARIA</td>\n",
       "    </tr>\n",
       "    <tr>\n",
       "      <th>2</th>\n",
       "      <td>800</td>\n",
       "      <td>3</td>\n",
       "      <td>PRIMARIA</td>\n",
       "    </tr>\n",
       "  </tbody>\n",
       "</table>\n",
       "</div>"
      ],
      "text/plain": [
       "   count(p.idpers)  grado     nivel\n",
       "0              808      1  PRIMARIA\n",
       "1              800      2  PRIMARIA\n",
       "2              800      3  PRIMARIA"
      ]
     },
     "execution_count": 80,
     "metadata": {},
     "output_type": "execute_result"
    }
   ],
   "source": [
    "#CANTIDAD DE ALUMNOS POR GRADO, NIVEL Y AÑO\n",
    "c27=pd.read_sql(\"\"\"select distinct count(p.idpers), r.grado, r.nivel\n",
    "    from personas p\n",
    "    inner join registros r\n",
    "    on r.idpers=p.idpers\n",
    "    group by r.nivel, r.grado\"\"\", maxplanck)\n",
    "c27.head(3)"
   ]
  },
  {
   "cell_type": "code",
   "execution_count": 81,
   "metadata": {},
   "outputs": [
    {
     "data": {
      "text/html": [
       "<div>\n",
       "<style scoped>\n",
       "    .dataframe tbody tr th:only-of-type {\n",
       "        vertical-align: middle;\n",
       "    }\n",
       "\n",
       "    .dataframe tbody tr th {\n",
       "        vertical-align: top;\n",
       "    }\n",
       "\n",
       "    .dataframe thead th {\n",
       "        text-align: right;\n",
       "    }\n",
       "</style>\n",
       "<table border=\"1\" class=\"dataframe\">\n",
       "  <thead>\n",
       "    <tr style=\"text-align: right;\">\n",
       "      <th></th>\n",
       "      <th>CantDesaprobados11</th>\n",
       "      <th>Cursos</th>\n",
       "      <th>grado</th>\n",
       "      <th>nivel</th>\n",
       "      <th>Año</th>\n",
       "    </tr>\n",
       "  </thead>\n",
       "  <tbody>\n",
       "    <tr>\n",
       "      <th>0</th>\n",
       "      <td>6</td>\n",
       "      <td>ARTE</td>\n",
       "      <td>1</td>\n",
       "      <td>PRIMARIA</td>\n",
       "      <td>2017</td>\n",
       "    </tr>\n",
       "    <tr>\n",
       "      <th>1</th>\n",
       "      <td>27</td>\n",
       "      <td>CIENCIA Y AMBIENTE</td>\n",
       "      <td>1</td>\n",
       "      <td>PRIMARIA</td>\n",
       "      <td>2017</td>\n",
       "    </tr>\n",
       "    <tr>\n",
       "      <th>2</th>\n",
       "      <td>42</td>\n",
       "      <td>FORMACIÓN. CIUDADANA Y CIVICA</td>\n",
       "      <td>1</td>\n",
       "      <td>SECUNDARIA</td>\n",
       "      <td>2017</td>\n",
       "    </tr>\n",
       "  </tbody>\n",
       "</table>\n",
       "</div>"
      ],
      "text/plain": [
       "   CantDesaprobados11                         Cursos  grado       nivel   Año\n",
       "0                   6                           ARTE      1    PRIMARIA  2017\n",
       "1                  27             CIENCIA Y AMBIENTE      1    PRIMARIA  2017\n",
       "2                  42  FORMACIÓN. CIUDADANA Y CIVICA      1  SECUNDARIA  2017"
      ]
     },
     "execution_count": 81,
     "metadata": {},
     "output_type": "execute_result"
    }
   ],
   "source": [
    "#CANTIDAD DE ALUMNOS DESAPROBADOS POR CURSO EN EL AÑO 2017\n",
    "c28=pd.read_sql(\"\"\"select count(r.idpers) as CantDesaprobados11,a.area AS Cursos, r.grado, r.nivel,r.anio as Año from detregistros d\n",
    "    inner join registros r on r.idreg = d.idreg\n",
    "    inner join areas a on a.idarea = r.idarea\n",
    "    where ((d.nota1+d.nota2+d.nota3+d.nota4+d.nota5+d.nota6+d.nota7+d.nota8)/8) <11 #and r.anio=2015#and a.area ='ARTE' and r.anio=2015\n",
    "    and r.anio=2017\n",
    "    group by a.area, r.nivel, r.grado  \n",
    "    order by r.grado asc\"\"\", maxplanck)\n",
    "c28.head(3)"
   ]
  },
  {
   "cell_type": "code",
   "execution_count": 82,
   "metadata": {},
   "outputs": [
    {
     "data": {
      "text/html": [
       "<div>\n",
       "<style scoped>\n",
       "    .dataframe tbody tr th:only-of-type {\n",
       "        vertical-align: middle;\n",
       "    }\n",
       "\n",
       "    .dataframe tbody tr th {\n",
       "        vertical-align: top;\n",
       "    }\n",
       "\n",
       "    .dataframe thead th {\n",
       "        text-align: right;\n",
       "    }\n",
       "</style>\n",
       "<table border=\"1\" class=\"dataframe\">\n",
       "  <thead>\n",
       "    <tr style=\"text-align: right;\">\n",
       "      <th></th>\n",
       "      <th>CantDesaprobados11</th>\n",
       "      <th>Cursos</th>\n",
       "      <th>grado</th>\n",
       "      <th>nivel</th>\n",
       "      <th>Año</th>\n",
       "    </tr>\n",
       "  </thead>\n",
       "  <tbody>\n",
       "    <tr>\n",
       "      <th>0</th>\n",
       "      <td>133</td>\n",
       "      <td>COMUNICACIÓN</td>\n",
       "      <td>1</td>\n",
       "      <td>SECUNDARIA</td>\n",
       "      <td>2016</td>\n",
       "    </tr>\n",
       "    <tr>\n",
       "      <th>1</th>\n",
       "      <td>110</td>\n",
       "      <td>EDUCACIÓN RELIGIOSA</td>\n",
       "      <td>1</td>\n",
       "      <td>SECUNDARIA</td>\n",
       "      <td>2016</td>\n",
       "    </tr>\n",
       "    <tr>\n",
       "      <th>2</th>\n",
       "      <td>215</td>\n",
       "      <td>MATEMÁTICA</td>\n",
       "      <td>1</td>\n",
       "      <td>SECUNDARIA</td>\n",
       "      <td>2016</td>\n",
       "    </tr>\n",
       "  </tbody>\n",
       "</table>\n",
       "</div>"
      ],
      "text/plain": [
       "   CantDesaprobados11               Cursos  grado       nivel   Año\n",
       "0                 133         COMUNICACIÓN      1  SECUNDARIA  2016\n",
       "1                 110  EDUCACIÓN RELIGIOSA      1  SECUNDARIA  2016\n",
       "2                 215           MATEMÁTICA      1  SECUNDARIA  2016"
      ]
     },
     "execution_count": 82,
     "metadata": {},
     "output_type": "execute_result"
    }
   ],
   "source": [
    "#CANTIDAD DE ALUMNOS DESAPROBADOS POR CURSO EN EL AÑO 2016\n",
    "c29=pd.read_sql(\"\"\"select count(r.idpers) as CantDesaprobados11,a.area AS Cursos, r.grado, r.nivel,r.anio as Año from detregistros d\n",
    "    inner join registros r on r.idreg = d.idreg\n",
    "    inner join areas a on a.idarea = r.idarea\n",
    "    where ((d.nota1+d.nota2+d.nota3+d.nota4+d.nota5+d.nota6+d.nota7+d.nota8)/8) <11 #and r.anio=2015#and a.area ='ARTE' and r.anio=2015\n",
    "    and r.anio=2016\n",
    "    group by a.area, r.nivel, r.grado  \n",
    "    order by r.grado asc\"\"\", maxplanck)\n",
    "c29.head(3)"
   ]
  },
  {
   "cell_type": "code",
   "execution_count": 83,
   "metadata": {},
   "outputs": [
    {
     "data": {
      "text/html": [
       "<div>\n",
       "<style scoped>\n",
       "    .dataframe tbody tr th:only-of-type {\n",
       "        vertical-align: middle;\n",
       "    }\n",
       "\n",
       "    .dataframe tbody tr th {\n",
       "        vertical-align: top;\n",
       "    }\n",
       "\n",
       "    .dataframe thead th {\n",
       "        text-align: right;\n",
       "    }\n",
       "</style>\n",
       "<table border=\"1\" class=\"dataframe\">\n",
       "  <thead>\n",
       "    <tr style=\"text-align: right;\">\n",
       "      <th></th>\n",
       "      <th>CantDesaprobados11</th>\n",
       "      <th>Cursos</th>\n",
       "      <th>grado</th>\n",
       "      <th>nivel</th>\n",
       "      <th>Año</th>\n",
       "    </tr>\n",
       "  </thead>\n",
       "  <tbody>\n",
       "    <tr>\n",
       "      <th>0</th>\n",
       "      <td>22</td>\n",
       "      <td>ARTE</td>\n",
       "      <td>1</td>\n",
       "      <td>PRIMARIA</td>\n",
       "      <td>2015</td>\n",
       "    </tr>\n",
       "    <tr>\n",
       "      <th>1</th>\n",
       "      <td>84</td>\n",
       "      <td>ALEMÁN</td>\n",
       "      <td>1</td>\n",
       "      <td>SECUNDARIA</td>\n",
       "      <td>2015</td>\n",
       "    </tr>\n",
       "    <tr>\n",
       "      <th>2</th>\n",
       "      <td>22</td>\n",
       "      <td>COMPUTACIÓN</td>\n",
       "      <td>1</td>\n",
       "      <td>PRIMARIA</td>\n",
       "      <td>2015</td>\n",
       "    </tr>\n",
       "  </tbody>\n",
       "</table>\n",
       "</div>"
      ],
      "text/plain": [
       "   CantDesaprobados11       Cursos  grado       nivel   Año\n",
       "0                  22         ARTE      1    PRIMARIA  2015\n",
       "1                  84       ALEMÁN      1  SECUNDARIA  2015\n",
       "2                  22  COMPUTACIÓN      1    PRIMARIA  2015"
      ]
     },
     "execution_count": 83,
     "metadata": {},
     "output_type": "execute_result"
    }
   ],
   "source": [
    "#cANTIDAD DE ALUMNOS DESAPROBADOS POR CURSO EN EL AÑO 2015\n",
    "c30=pd.read_sql(\"\"\"select count(r.idpers) as CantDesaprobados11,a.area AS Cursos, r.grado, r.nivel,r.anio as Año from detregistros d\n",
    "    inner join registros r on r.idreg = d.idreg\n",
    "    inner join areas a on a.idarea = r.idarea\n",
    "    where ((d.nota1+d.nota2+d.nota3+d.nota4+d.nota5+d.nota6+d.nota7+d.nota8)/8) <11 #and r.anio=2015#and a.area ='ARTE' and r.anio=2015\n",
    "    and r.anio=2015\n",
    "    group by a.area, r.nivel, r.grado  \n",
    "    order by r.grado asc\"\"\", maxplanck)\n",
    "c30.head(3)"
   ]
  }
 ],
 "metadata": {
  "kernelspec": {
   "display_name": "Python 3",
   "language": "python",
   "name": "python3"
  },
  "language_info": {
   "codemirror_mode": {
    "name": "ipython",
    "version": 3
   },
   "file_extension": ".py",
   "mimetype": "text/x-python",
   "name": "python",
   "nbconvert_exporter": "python",
   "pygments_lexer": "ipython3",
   "version": "3.7.3"
  }
 },
 "nbformat": 4,
 "nbformat_minor": 4
}
